{
 "cells": [
  {
   "cell_type": "code",
   "execution_count": 1,
   "outputs": [
    {
     "name": "stdout",
     "output_type": "stream",
     "text": [
      "Requirement already satisfied: mlflow in c:\\users\\vives\\anaconda3\\lib\\site-packages (1.28.0)\n",
      "Requirement already satisfied: protobuf<5,>=3.12.0 in c:\\users\\vives\\anaconda3\\lib\\site-packages (from mlflow) (3.19.1)\n",
      "Requirement already satisfied: waitress<3 in c:\\users\\vives\\anaconda3\\lib\\site-packages (from mlflow) (2.1.2)\n",
      "Requirement already satisfied: pyyaml<7,>=5.1 in c:\\users\\vives\\anaconda3\\lib\\site-packages (from mlflow) (6.0)\n",
      "Requirement already satisfied: sqlparse<1,>=0.4.0 in c:\\users\\vives\\anaconda3\\lib\\site-packages (from mlflow) (0.4.2)\n",
      "Requirement already satisfied: entrypoints<1 in c:\\users\\vives\\anaconda3\\lib\\site-packages (from mlflow) (0.4)\n",
      "Requirement already satisfied: sqlalchemy<2,>=1.4.0 in c:\\users\\vives\\anaconda3\\lib\\site-packages (from mlflow) (1.4.32)\n",
      "Requirement already satisfied: scipy<2 in c:\\users\\vives\\anaconda3\\lib\\site-packages (from mlflow) (1.7.3)\n",
      "Requirement already satisfied: databricks-cli<1,>=0.8.7 in c:\\users\\vives\\anaconda3\\lib\\site-packages (from mlflow) (0.17.2)\n",
      "Requirement already satisfied: alembic<2 in c:\\users\\vives\\anaconda3\\lib\\site-packages (from mlflow) (1.8.1)\n",
      "Requirement already satisfied: numpy<2 in c:\\users\\vives\\anaconda3\\lib\\site-packages (from mlflow) (1.21.5)\n",
      "Requirement already satisfied: pandas<2 in c:\\users\\vives\\anaconda3\\lib\\site-packages (from mlflow) (1.4.2)\n",
      "Requirement already satisfied: requests<3,>=2.17.3 in c:\\users\\vives\\anaconda3\\lib\\site-packages (from mlflow) (2.27.1)\n",
      "Requirement already satisfied: pytz<2023 in c:\\users\\vives\\anaconda3\\lib\\site-packages (from mlflow) (2021.3)\n",
      "Requirement already satisfied: docker<6,>=4.0.0 in c:\\users\\vives\\anaconda3\\lib\\site-packages (from mlflow) (5.0.3)\n",
      "Requirement already satisfied: gitpython<4,>=2.1.0 in c:\\users\\vives\\anaconda3\\lib\\site-packages (from mlflow) (3.1.27)\n",
      "Requirement already satisfied: Flask<3 in c:\\users\\vives\\anaconda3\\lib\\site-packages (from mlflow) (1.1.2)\n",
      "Requirement already satisfied: querystring-parser<2 in c:\\users\\vives\\anaconda3\\lib\\site-packages (from mlflow) (1.2.4)\n",
      "Requirement already satisfied: importlib-metadata!=4.7.0,<5,>=3.7.0 in c:\\users\\vives\\anaconda3\\lib\\site-packages (from mlflow) (4.11.3)\n",
      "Requirement already satisfied: prometheus-flask-exporter<1 in c:\\users\\vives\\anaconda3\\lib\\site-packages (from mlflow) (0.20.3)\n",
      "Requirement already satisfied: cloudpickle<3 in c:\\users\\vives\\anaconda3\\lib\\site-packages (from mlflow) (2.0.0)\n",
      "Requirement already satisfied: packaging<22 in c:\\users\\vives\\anaconda3\\lib\\site-packages (from mlflow) (21.3)\n",
      "Requirement already satisfied: click<9,>=7.0 in c:\\users\\vives\\anaconda3\\lib\\site-packages (from mlflow) (8.0.4)\n",
      "Requirement already satisfied: Mako in c:\\users\\vives\\anaconda3\\lib\\site-packages (from alembic<2->mlflow) (1.2.1)\n",
      "Requirement already satisfied: colorama in c:\\users\\vives\\anaconda3\\lib\\site-packages (from click<9,>=7.0->mlflow) (0.4.4)\n",
      "Requirement already satisfied: six>=1.10.0 in c:\\users\\vives\\anaconda3\\lib\\site-packages (from databricks-cli<1,>=0.8.7->mlflow) (1.16.0)\n",
      "Requirement already satisfied: tabulate>=0.7.7 in c:\\users\\vives\\anaconda3\\lib\\site-packages (from databricks-cli<1,>=0.8.7->mlflow) (0.8.9)\n",
      "Requirement already satisfied: pyjwt>=1.7.0 in c:\\users\\vives\\anaconda3\\lib\\site-packages (from databricks-cli<1,>=0.8.7->mlflow) (2.1.0)\n",
      "Requirement already satisfied: oauthlib>=3.1.0 in c:\\users\\vives\\anaconda3\\lib\\site-packages (from databricks-cli<1,>=0.8.7->mlflow) (3.2.0)\n",
      "Requirement already satisfied: pywin32==227 in c:\\users\\vives\\anaconda3\\lib\\site-packages (from docker<6,>=4.0.0->mlflow) (227)\n",
      "Requirement already satisfied: websocket-client>=0.32.0 in c:\\users\\vives\\anaconda3\\lib\\site-packages (from docker<6,>=4.0.0->mlflow) (0.58.0)\n",
      "Requirement already satisfied: Werkzeug>=0.15 in c:\\users\\vives\\anaconda3\\lib\\site-packages (from Flask<3->mlflow) (2.0.3)\n",
      "Requirement already satisfied: Jinja2>=2.10.1 in c:\\users\\vives\\anaconda3\\lib\\site-packages (from Flask<3->mlflow) (2.11.3)\n",
      "Requirement already satisfied: itsdangerous>=0.24 in c:\\users\\vives\\anaconda3\\lib\\site-packages (from Flask<3->mlflow) (2.0.1)\n",
      "Requirement already satisfied: gitdb<5,>=4.0.1 in c:\\users\\vives\\anaconda3\\lib\\site-packages (from gitpython<4,>=2.1.0->mlflow) (4.0.9)\n",
      "Requirement already satisfied: smmap<6,>=3.0.1 in c:\\users\\vives\\anaconda3\\lib\\site-packages (from gitdb<5,>=4.0.1->gitpython<4,>=2.1.0->mlflow) (5.0.0)\n",
      "Requirement already satisfied: zipp>=0.5 in c:\\users\\vives\\anaconda3\\lib\\site-packages (from importlib-metadata!=4.7.0,<5,>=3.7.0->mlflow) (3.7.0)\n",
      "Requirement already satisfied: MarkupSafe>=0.23 in c:\\users\\vives\\anaconda3\\lib\\site-packages (from Jinja2>=2.10.1->Flask<3->mlflow) (2.0.1)\n",
      "Requirement already satisfied: pyparsing!=3.0.5,>=2.0.2 in c:\\users\\vives\\anaconda3\\lib\\site-packages (from packaging<22->mlflow) (3.0.4)\n",
      "Requirement already satisfied: python-dateutil>=2.8.1 in c:\\users\\vives\\anaconda3\\lib\\site-packages (from pandas<2->mlflow) (2.8.2)\n",
      "Requirement already satisfied: prometheus-client in c:\\users\\vives\\anaconda3\\lib\\site-packages (from prometheus-flask-exporter<1->mlflow) (0.13.1)\n",
      "Requirement already satisfied: idna<4,>=2.5 in c:\\users\\vives\\anaconda3\\lib\\site-packages (from requests<3,>=2.17.3->mlflow) (3.3)\n",
      "Requirement already satisfied: charset-normalizer~=2.0.0 in c:\\users\\vives\\anaconda3\\lib\\site-packages (from requests<3,>=2.17.3->mlflow) (2.0.4)\n",
      "Requirement already satisfied: urllib3<1.27,>=1.21.1 in c:\\users\\vives\\anaconda3\\lib\\site-packages (from requests<3,>=2.17.3->mlflow) (1.26.9)\n",
      "Requirement already satisfied: certifi>=2017.4.17 in c:\\users\\vives\\anaconda3\\lib\\site-packages (from requests<3,>=2.17.3->mlflow) (2021.10.8)\n",
      "Requirement already satisfied: greenlet!=0.4.17 in c:\\users\\vives\\anaconda3\\lib\\site-packages (from sqlalchemy<2,>=1.4.0->mlflow) (1.1.1)\n"
     ]
    }
   ],
   "source": [
    "! pip install mlflow"
   ],
   "metadata": {
    "collapsed": false,
    "pycharm": {
     "name": "#%%\n"
    }
   }
  },
  {
   "cell_type": "code",
   "execution_count": 2,
   "outputs": [],
   "source": [
    "from tensorflow.compat.v1 import ConfigProto\n",
    "from tensorflow.compat.v1 import InteractiveSession\n",
    "config = ConfigProto()\n",
    "config.gpu_options.allow_growth = True\n",
    "session = InteractiveSession(config=config)"
   ],
   "metadata": {
    "collapsed": false,
    "pycharm": {
     "name": "#%%\n"
    }
   }
  },
  {
   "cell_type": "code",
   "execution_count": 3,
   "metadata": {
    "pycharm": {
     "name": "#%%\n"
    }
   },
   "outputs": [],
   "source": [
    "import pandas as pd\n",
    "import numpy as np\n",
    "import datetime\n",
    "from pandas_summary import DataFrameSummary"
   ]
  },
  {
   "cell_type": "code",
   "execution_count": 4,
   "metadata": {
    "pycharm": {
     "name": "#%%\n"
    }
   },
   "outputs": [],
   "source": [
    "from tensorflow.keras.utils import to_categorical"
   ]
  },
  {
   "cell_type": "code",
   "execution_count": 5,
   "metadata": {
    "pycharm": {
     "name": "#%%\n"
    }
   },
   "outputs": [],
   "source": [
    "resultPath=''\n",
    "df = pd.read_feather('train_normalized_data.fth')\n",
    "df_test = pd.read_feather('test_normalized_data.fth')"
   ]
  },
  {
   "cell_type": "code",
   "execution_count": 6,
   "metadata": {
    "pycharm": {
     "name": "#%%\n"
    }
   },
   "outputs": [],
   "source": [
    "cat_vars = ['Store', 'DayOfWeek', 'Year', 'Month', 'Day', 'StateHoliday', 'CompetitionMonthsOpen', 'Promo2Weeks', \n",
    "            'StoreType', 'Assortment', 'PromoInterval', 'CompetitionOpenSinceYear', 'Promo2SinceYear', 'State', \n",
    "            'Week', 'Events', 'Promo_fw', 'Promo_bw', 'StateHoliday_bool_fw', 'StateHoliday_bool_bw', 'SchoolHoliday_fw', 'SchoolHoliday_bw']\n",
    "\n",
    "#cat_vars = ['Store', 'DayOfWeek']"
   ]
  },
  {
   "cell_type": "code",
   "execution_count": 7,
   "metadata": {
    "pycharm": {
     "name": "#%%\n"
    }
   },
   "outputs": [],
   "source": [
    "contin_vars = ['CompetitionDistance', \n",
    "   'Max_TemperatureC', 'Mean_TemperatureC', 'Min_TemperatureC', 'Precipitationmm',\n",
    "   'Max_Humidity', 'Mean_Humidity', 'Min_Humidity', 'Max_Wind_SpeedKm_h', \n",
    "   'Mean_Wind_SpeedKm_h', 'CloudCover', 'trend', 'trend_DE',\n",
    "   'AfterStateHoliday_bool', 'BeforeStateHoliday_bool', 'Promo', 'SchoolHoliday', 'StateHoliday_bool']\n",
    "\n",
    "contin_vars = ['CompetitionDistance',\n",
    "               'Max_TemperatureC', 'Precipitationmm',\n",
    "               'Max_Humidity', 'CloudCover', 'trend',\n",
    "               'AfterStateHoliday_bool', 'Promo']\n",
    "\n",
    "\n",
    "#contin_vars = ['BeforeStateHoliday_bool', 'Max_TemperatureC']"
   ]
  },
  {
   "cell_type": "code",
   "execution_count": 8,
   "metadata": {
    "pycharm": {
     "name": "#%%\n"
    }
   },
   "outputs": [],
   "source": [
    "uniques = DataFrameSummary(df[cat_vars]).summary().loc[['uniques']]"
   ]
  },
  {
   "cell_type": "code",
   "execution_count": 9,
   "metadata": {
    "pycharm": {
     "name": "#%%\n"
    }
   },
   "outputs": [
    {
     "data": {
      "text/plain": "                         uniques\nStore                       1115\nDayOfWeek                      7\nYear                           3\nMonth                         12\nDay                           31\nStateHoliday                   4\nCompetitionMonthsOpen         25\nPromo2Weeks                   26\nStoreType                      4\nAssortment                     3\nPromoInterval                  4\nCompetitionOpenSinceYear      21\nPromo2SinceYear                8\nState                         12\nWeek                          52\nEvents                        22\nPromo_fw                       6\nPromo_bw                       6\nStateHoliday_bool_fw           3\nStateHoliday_bool_bw           3\nSchoolHoliday_fw               8\nSchoolHoliday_bw               8",
      "text/html": "<div>\n<style scoped>\n    .dataframe tbody tr th:only-of-type {\n        vertical-align: middle;\n    }\n\n    .dataframe tbody tr th {\n        vertical-align: top;\n    }\n\n    .dataframe thead th {\n        text-align: right;\n    }\n</style>\n<table border=\"1\" class=\"dataframe\">\n  <thead>\n    <tr style=\"text-align: right;\">\n      <th></th>\n      <th>uniques</th>\n    </tr>\n  </thead>\n  <tbody>\n    <tr>\n      <th>Store</th>\n      <td>1115</td>\n    </tr>\n    <tr>\n      <th>DayOfWeek</th>\n      <td>7</td>\n    </tr>\n    <tr>\n      <th>Year</th>\n      <td>3</td>\n    </tr>\n    <tr>\n      <th>Month</th>\n      <td>12</td>\n    </tr>\n    <tr>\n      <th>Day</th>\n      <td>31</td>\n    </tr>\n    <tr>\n      <th>StateHoliday</th>\n      <td>4</td>\n    </tr>\n    <tr>\n      <th>CompetitionMonthsOpen</th>\n      <td>25</td>\n    </tr>\n    <tr>\n      <th>Promo2Weeks</th>\n      <td>26</td>\n    </tr>\n    <tr>\n      <th>StoreType</th>\n      <td>4</td>\n    </tr>\n    <tr>\n      <th>Assortment</th>\n      <td>3</td>\n    </tr>\n    <tr>\n      <th>PromoInterval</th>\n      <td>4</td>\n    </tr>\n    <tr>\n      <th>CompetitionOpenSinceYear</th>\n      <td>21</td>\n    </tr>\n    <tr>\n      <th>Promo2SinceYear</th>\n      <td>8</td>\n    </tr>\n    <tr>\n      <th>State</th>\n      <td>12</td>\n    </tr>\n    <tr>\n      <th>Week</th>\n      <td>52</td>\n    </tr>\n    <tr>\n      <th>Events</th>\n      <td>22</td>\n    </tr>\n    <tr>\n      <th>Promo_fw</th>\n      <td>6</td>\n    </tr>\n    <tr>\n      <th>Promo_bw</th>\n      <td>6</td>\n    </tr>\n    <tr>\n      <th>StateHoliday_bool_fw</th>\n      <td>3</td>\n    </tr>\n    <tr>\n      <th>StateHoliday_bool_bw</th>\n      <td>3</td>\n    </tr>\n    <tr>\n      <th>SchoolHoliday_fw</th>\n      <td>8</td>\n    </tr>\n    <tr>\n      <th>SchoolHoliday_bw</th>\n      <td>8</td>\n    </tr>\n  </tbody>\n</table>\n</div>"
     },
     "execution_count": 9,
     "metadata": {},
     "output_type": "execute_result"
    }
   ],
   "source": [
    "uniques.T"
   ]
  },
  {
   "cell_type": "markdown",
   "metadata": {
    "pycharm": {
     "name": "#%% md\n"
    }
   },
   "source": [
    "# Asignación de dimensión de embeddings"
   ]
  },
  {
   "cell_type": "code",
   "execution_count": 10,
   "metadata": {
    "pycharm": {
     "name": "#%%\n"
    }
   },
   "outputs": [],
   "source": [
    "cat_var_dict = {'Store': 50, 'DayOfWeek': 2, 'Year': 2, 'Month': 2,\n",
    "'Day': 10, 'StateHoliday': 2, 'CompetitionMonthsOpen': 2,\n",
    "'Promo2Weeks': 1, 'StoreType': 2, 'Assortment': 3, 'PromoInterval': 3,\n",
    "'CompetitionOpenSinceYear': 4, 'Promo2SinceYear': 4, 'State': 6,\n",
    "'Week': 25, 'Events': 4, 'Promo_fw': 1,\n",
    "'Promo_bw': 1, 'StateHoliday_bool_fw': 1,\n",
    "'StateHoliday_bool_bw': 1, 'SchoolHoliday_fw': 1,\n",
    "'SchoolHoliday_bw': 1}"
   ]
  },
  {
   "cell_type": "code",
   "execution_count": 11,
   "outputs": [],
   "source": [
    "cat_var_dict = {'Store': 20, 'DayOfWeek': 3, 'Year': 2, 'Month': 4,\n",
    "                'Day': 5, 'StateHoliday': 2, 'CompetitionMonthsOpen': 2,\n",
    "                'Promo2Weeks': 2, 'StoreType': 3, 'Assortment': 2, 'PromoInterval': 3,\n",
    "                'CompetitionOpenSinceYear': 4, 'Promo2SinceYear': 4, 'State': 6,\n",
    "                'Week': 6, 'Events': 4, 'Promo_fw': 1,\n",
    "                'Promo_bw': 1, 'StateHoliday_bool_fw': 1,\n",
    "                'StateHoliday_bool_bw': 1, 'SchoolHoliday_fw': 1,\n",
    "                'SchoolHoliday_bw': 1}"
   ],
   "metadata": {
    "collapsed": false,
    "pycharm": {
     "name": "#%%\n"
    }
   }
  },
  {
   "cell_type": "code",
   "execution_count": 12,
   "metadata": {
    "pycharm": {
     "name": "#%%\n"
    }
   },
   "outputs": [
    {
     "name": "stdout",
     "output_type": "stream",
     "text": [
      "Store 20 1115 [   0    1    2 ... 1112 1113 1114]\n",
      "\n",
      "DayOfWeek 3 7 [0 1 2 3 4 5 6]\n",
      "\n",
      "Year 2 3 [0 1 2]\n",
      "\n",
      "Month 4 12 [ 0  1  2  3  4  5  6  7  8  9 10 11]\n",
      "\n",
      "Day 5 31 [ 0  1  2  3  4  5  6  7  8  9 10 11 12 13 14 15 16 17 18 19 20 21 22 23\n",
      " 24 25 26 27 28 29 30]\n",
      "\n",
      "StateHoliday 2 4 [0 1 2 3]\n",
      "\n",
      "CompetitionMonthsOpen 2 25 [ 0  1  2  3  4  5  6  7  8  9 10 11 12 13 14 15 16 17 18 19 20 21 22 23\n",
      " 24]\n",
      "\n",
      "Promo2Weeks 2 26 [ 0  1  2  3  4  5  6  7  8  9 10 11 12 13 14 15 16 17 18 19 20 21 22 23\n",
      " 24 25]\n",
      "\n",
      "StoreType 3 4 [0 1 2 3]\n",
      "\n",
      "Assortment 2 3 [0 1 2]\n",
      "\n",
      "PromoInterval 3 4 [0 1 2 3]\n",
      "\n",
      "CompetitionOpenSinceYear 4 21 [ 0  1  2  3  4  5  6  7  8  9 10 11 12 13 14 15 16 17 18 19 20]\n",
      "\n",
      "Promo2SinceYear 4 8 [0 1 2 3 4 5 6 7]\n",
      "\n",
      "State 6 12 [ 0  1  2  3  4  5  6  7  8  9 10 11]\n",
      "\n",
      "Week 6 52 [ 0  1  2  3  4  5  6  7  8  9 10 11 12 13 14 15 16 17 18 19 20 21 22 23\n",
      " 24 25 26 27 28 29 30 31 32 33 34 35 36 37 38 39 40 41 42 43 44 45 46 47\n",
      " 48 49 50 51]\n",
      "\n",
      "Events 4 22 [ 0  1  2  3  4  5  6  7  8  9 10 11 12 13 14 15 16 17 18 19 20 21]\n",
      "\n",
      "Promo_fw 1 6 [0 1 2 3 4 5]\n",
      "\n",
      "Promo_bw 1 6 [0 1 2 3 4 5]\n",
      "\n",
      "StateHoliday_bool_fw 1 3 [0 1 2]\n",
      "\n",
      "StateHoliday_bool_bw 1 3 [0 1 2]\n",
      "\n",
      "SchoolHoliday_fw 1 8 [0 1 2 3 4 5 6 7]\n",
      "\n",
      "SchoolHoliday_bw 1 8 [0 1 2 3 4 5 6 7]\n",
      "\n"
     ]
    }
   ],
   "source": [
    "for v in cat_vars:\n",
    "    uniques_ = df[v].unique()\n",
    "    uniques_.sort()\n",
    "    print(v, cat_var_dict[v], len(uniques_), uniques_)\n",
    "    print()"
   ]
  },
  {
   "cell_type": "markdown",
   "metadata": {
    "pycharm": {
     "name": "#%% md\n"
    }
   },
   "source": [
    "# Definición de modelo"
   ]
  },
  {
   "cell_type": "code",
   "execution_count": 13,
   "metadata": {
    "pycharm": {
     "name": "#%%\n"
    }
   },
   "outputs": [],
   "source": [
    "add_customers = True\n",
    "log_output = True\n",
    "output_activation = 'linear'"
   ]
  },
  {
   "cell_type": "code",
   "execution_count": 14,
   "metadata": {
    "pycharm": {
     "name": "#%%\n"
    }
   },
   "outputs": [],
   "source": [
    "from tensorflow.keras.models import Model\n",
    "from tensorflow.keras.callbacks import ModelCheckpoint\n",
    "from tensorflow.keras.optimizers import Adam\n",
    "from tensorflow.keras.layers import Embedding, Input, Flatten, Concatenate, Dense, BatchNormalization, Activation, LeakyReLU, Dropout\n",
    "from tensorflow.keras.regularizers import l2"
   ]
  },
  {
   "cell_type": "code",
   "execution_count": 15,
   "metadata": {
    "pycharm": {
     "name": "#%%\n"
    }
   },
   "outputs": [],
   "source": [
    "def get_cat_vars_model(cat_vars, uniques, cat_var_dict):\n",
    "    cat_vars_embed_outs = []\n",
    "    cat_var_inputs = []\n",
    "    for cat_var in cat_vars:\n",
    "        cat_var_in = Input(shape=(1,), name=f\"{cat_var}_input\")\n",
    "        cat_var_inputs.append(cat_var_in)\n",
    "        embed_out = Embedding(uniques[cat_var][0], cat_var_dict[cat_var], name=f'{cat_var}_Embed')(cat_var_in)\n",
    "        flatten_out = Flatten(name=f\"{cat_var}_flat\")(embed_out)\n",
    "        cat_vars_embed_outs.append(flatten_out)\n",
    "    return cat_var_inputs, cat_vars_embed_outs\n",
    "\n",
    "def get_cont_vars_input(contin_vars, dense_layer=False):\n",
    "    cont_vars_inputs = []\n",
    "    cont_vars_outputs = []\n",
    "    for cont_var in contin_vars:\n",
    "        cont_var_in = Input(shape=(1,), name=f\"{cont_var}_input\")\n",
    "        cont_vars_inputs.append(cont_var_in)\n",
    "        if dense_layer:\n",
    "            cont_var_out = Dense(1, name=f\"{cont_var}_input\", activation = 'linear')(cont_var_in)\n",
    "            cont_vars_outputs.append(cont_var_out)\n",
    "        else:\n",
    "            cont_vars_outputs.append(cont_var_in)\n",
    "    return cont_vars_inputs, cont_vars_outputs"
   ]
  },
  {
   "cell_type": "code",
   "execution_count": 16,
   "metadata": {
    "pycharm": {
     "name": "#%%\n"
    }
   },
   "outputs": [],
   "source": [
    "cat_var_inputs, cat_vars_embed_outs = get_cat_vars_model(cat_vars, uniques, cat_var_dict)\n",
    "cont_vars_inputs,  cont_vars_outs= get_cont_vars_input(contin_vars)"
   ]
  },
  {
   "cell_type": "code",
   "execution_count": 17,
   "metadata": {
    "pycharm": {
     "name": "#%%\n"
    }
   },
   "outputs": [],
   "source": [
    "# Descomentar para ver resultados\n",
    "# cat_vars_embed_outs\n",
    "# cat_var_inputs\n",
    "# cont_vars_inputs\n",
    "# cont_vars_outs\n",
    "#cat_vars\n",
    "#uniques\n",
    "#cat_var_dict"
   ]
  },
  {
   "cell_type": "code",
   "execution_count": 18,
   "metadata": {
    "pycharm": {
     "name": "#%%\n"
    }
   },
   "outputs": [],
   "source": [
    "first_hidden_units = 1000\n",
    "second_hidden_units = 500\n",
    "l2_lambda = 1e-3\n",
    "l2_lambda = 0.0001\n",
    "merged = Concatenate(name='All_Concatenate')(cat_vars_embed_outs + cont_vars_inputs)\n",
    "x = Dense(first_hidden_units, kernel_initializer=\"uniform\", kernel_regularizer=l2(l2_lambda))(merged)\n",
    "x = BatchNormalization()(x)\n",
    "x = Activation('relu')(x)\n",
    "# x = LeakyReLU()(x)\n",
    "x = Dense(second_hidden_units, kernel_initializer=\"uniform\", kernel_regularizer=l2(l2_lambda))(x)\n",
    "# x = BatchNormalization()(x)\n",
    "x = Activation('relu')(x)\n",
    "# x = LeakyReLU()(x)\n",
    "\n",
    "x = Dense(second_hidden_units, kernel_initializer=\"uniform\", kernel_regularizer=l2(l2_lambda))(x)\n",
    "# x = BatchNormalization()(x)\n",
    "x = Activation('relu')(x)\n",
    "\n",
    "output_1 = Dense(1, name='Sales', activation=output_activation)(x)\n",
    "output_2 = Dense(1, name='Customers', activation=output_activation)(x)"
   ]
  },
  {
   "cell_type": "code",
   "execution_count": 19,
   "metadata": {
    "pycharm": {
     "name": "#%%\n"
    }
   },
   "outputs": [],
   "source": [
    "if add_customers:\n",
    "    model = Model(cat_var_inputs + cont_vars_inputs, [output_1, output_2])\n",
    "else: \n",
    "    model = Model(cat_var_inputs + cont_vars_inputs, [output_1])"
   ]
  },
  {
   "cell_type": "code",
   "execution_count": 20,
   "metadata": {
    "pycharm": {
     "name": "#%%\n"
    }
   },
   "outputs": [
    {
     "name": "stdout",
     "output_type": "stream",
     "text": [
      "Model: \"model\"\n",
      "__________________________________________________________________________________________________\n",
      " Layer (type)                   Output Shape         Param #     Connected to                     \n",
      "==================================================================================================\n",
      " Store_input (InputLayer)       [(None, 1)]          0           []                               \n",
      "                                                                                                  \n",
      " DayOfWeek_input (InputLayer)   [(None, 1)]          0           []                               \n",
      "                                                                                                  \n",
      " Year_input (InputLayer)        [(None, 1)]          0           []                               \n",
      "                                                                                                  \n",
      " Month_input (InputLayer)       [(None, 1)]          0           []                               \n",
      "                                                                                                  \n",
      " Day_input (InputLayer)         [(None, 1)]          0           []                               \n",
      "                                                                                                  \n",
      " StateHoliday_input (InputLayer  [(None, 1)]         0           []                               \n",
      " )                                                                                                \n",
      "                                                                                                  \n",
      " CompetitionMonthsOpen_input (I  [(None, 1)]         0           []                               \n",
      " nputLayer)                                                                                       \n",
      "                                                                                                  \n",
      " Promo2Weeks_input (InputLayer)  [(None, 1)]         0           []                               \n",
      "                                                                                                  \n",
      " StoreType_input (InputLayer)   [(None, 1)]          0           []                               \n",
      "                                                                                                  \n",
      " Assortment_input (InputLayer)  [(None, 1)]          0           []                               \n",
      "                                                                                                  \n",
      " PromoInterval_input (InputLaye  [(None, 1)]         0           []                               \n",
      " r)                                                                                               \n",
      "                                                                                                  \n",
      " CompetitionOpenSinceYear_input  [(None, 1)]         0           []                               \n",
      "  (InputLayer)                                                                                    \n",
      "                                                                                                  \n",
      " Promo2SinceYear_input (InputLa  [(None, 1)]         0           []                               \n",
      " yer)                                                                                             \n",
      "                                                                                                  \n",
      " State_input (InputLayer)       [(None, 1)]          0           []                               \n",
      "                                                                                                  \n",
      " Week_input (InputLayer)        [(None, 1)]          0           []                               \n",
      "                                                                                                  \n",
      " Events_input (InputLayer)      [(None, 1)]          0           []                               \n",
      "                                                                                                  \n",
      " Promo_fw_input (InputLayer)    [(None, 1)]          0           []                               \n",
      "                                                                                                  \n",
      " Promo_bw_input (InputLayer)    [(None, 1)]          0           []                               \n",
      "                                                                                                  \n",
      " StateHoliday_bool_fw_input (In  [(None, 1)]         0           []                               \n",
      " putLayer)                                                                                        \n",
      "                                                                                                  \n",
      " StateHoliday_bool_bw_input (In  [(None, 1)]         0           []                               \n",
      " putLayer)                                                                                        \n",
      "                                                                                                  \n",
      " SchoolHoliday_fw_input (InputL  [(None, 1)]         0           []                               \n",
      " ayer)                                                                                            \n",
      "                                                                                                  \n",
      " SchoolHoliday_bw_input (InputL  [(None, 1)]         0           []                               \n",
      " ayer)                                                                                            \n",
      "                                                                                                  \n",
      " Store_Embed (Embedding)        (None, 1, 20)        22300       ['Store_input[0][0]']            \n",
      "                                                                                                  \n",
      " DayOfWeek_Embed (Embedding)    (None, 1, 3)         21          ['DayOfWeek_input[0][0]']        \n",
      "                                                                                                  \n",
      " Year_Embed (Embedding)         (None, 1, 2)         6           ['Year_input[0][0]']             \n",
      "                                                                                                  \n",
      " Month_Embed (Embedding)        (None, 1, 4)         48          ['Month_input[0][0]']            \n",
      "                                                                                                  \n",
      " Day_Embed (Embedding)          (None, 1, 5)         155         ['Day_input[0][0]']              \n",
      "                                                                                                  \n",
      " StateHoliday_Embed (Embedding)  (None, 1, 2)        8           ['StateHoliday_input[0][0]']     \n",
      "                                                                                                  \n",
      " CompetitionMonthsOpen_Embed (E  (None, 1, 2)        50          ['CompetitionMonthsOpen_input[0][\n",
      " mbedding)                                                       0]']                             \n",
      "                                                                                                  \n",
      " Promo2Weeks_Embed (Embedding)  (None, 1, 2)         52          ['Promo2Weeks_input[0][0]']      \n",
      "                                                                                                  \n",
      " StoreType_Embed (Embedding)    (None, 1, 3)         12          ['StoreType_input[0][0]']        \n",
      "                                                                                                  \n",
      " Assortment_Embed (Embedding)   (None, 1, 2)         6           ['Assortment_input[0][0]']       \n",
      "                                                                                                  \n",
      " PromoInterval_Embed (Embedding  (None, 1, 3)        12          ['PromoInterval_input[0][0]']    \n",
      " )                                                                                                \n",
      "                                                                                                  \n",
      " CompetitionOpenSinceYear_Embed  (None, 1, 4)        84          ['CompetitionOpenSinceYear_input[\n",
      "  (Embedding)                                                    0][0]']                          \n",
      "                                                                                                  \n",
      " Promo2SinceYear_Embed (Embeddi  (None, 1, 4)        32          ['Promo2SinceYear_input[0][0]']  \n",
      " ng)                                                                                              \n",
      "                                                                                                  \n",
      " State_Embed (Embedding)        (None, 1, 6)         72          ['State_input[0][0]']            \n",
      "                                                                                                  \n",
      " Week_Embed (Embedding)         (None, 1, 6)         312         ['Week_input[0][0]']             \n",
      "                                                                                                  \n",
      " Events_Embed (Embedding)       (None, 1, 4)         88          ['Events_input[0][0]']           \n",
      "                                                                                                  \n",
      " Promo_fw_Embed (Embedding)     (None, 1, 1)         6           ['Promo_fw_input[0][0]']         \n",
      "                                                                                                  \n",
      " Promo_bw_Embed (Embedding)     (None, 1, 1)         6           ['Promo_bw_input[0][0]']         \n",
      "                                                                                                  \n",
      " StateHoliday_bool_fw_Embed (Em  (None, 1, 1)        3           ['StateHoliday_bool_fw_input[0][0\n",
      " bedding)                                                        ]']                              \n",
      "                                                                                                  \n",
      " StateHoliday_bool_bw_Embed (Em  (None, 1, 1)        3           ['StateHoliday_bool_bw_input[0][0\n",
      " bedding)                                                        ]']                              \n",
      "                                                                                                  \n",
      " SchoolHoliday_fw_Embed (Embedd  (None, 1, 1)        8           ['SchoolHoliday_fw_input[0][0]'] \n",
      " ing)                                                                                             \n",
      "                                                                                                  \n",
      " SchoolHoliday_bw_Embed (Embedd  (None, 1, 1)        8           ['SchoolHoliday_bw_input[0][0]'] \n",
      " ing)                                                                                             \n",
      "                                                                                                  \n",
      " Store_flat (Flatten)           (None, 20)           0           ['Store_Embed[0][0]']            \n",
      "                                                                                                  \n",
      " DayOfWeek_flat (Flatten)       (None, 3)            0           ['DayOfWeek_Embed[0][0]']        \n",
      "                                                                                                  \n",
      " Year_flat (Flatten)            (None, 2)            0           ['Year_Embed[0][0]']             \n",
      "                                                                                                  \n",
      " Month_flat (Flatten)           (None, 4)            0           ['Month_Embed[0][0]']            \n",
      "                                                                                                  \n",
      " Day_flat (Flatten)             (None, 5)            0           ['Day_Embed[0][0]']              \n",
      "                                                                                                  \n",
      " StateHoliday_flat (Flatten)    (None, 2)            0           ['StateHoliday_Embed[0][0]']     \n",
      "                                                                                                  \n",
      " CompetitionMonthsOpen_flat (Fl  (None, 2)           0           ['CompetitionMonthsOpen_Embed[0][\n",
      " atten)                                                          0]']                             \n",
      "                                                                                                  \n",
      " Promo2Weeks_flat (Flatten)     (None, 2)            0           ['Promo2Weeks_Embed[0][0]']      \n",
      "                                                                                                  \n",
      " StoreType_flat (Flatten)       (None, 3)            0           ['StoreType_Embed[0][0]']        \n",
      "                                                                                                  \n",
      " Assortment_flat (Flatten)      (None, 2)            0           ['Assortment_Embed[0][0]']       \n",
      "                                                                                                  \n",
      " PromoInterval_flat (Flatten)   (None, 3)            0           ['PromoInterval_Embed[0][0]']    \n",
      "                                                                                                  \n",
      " CompetitionOpenSinceYear_flat   (None, 4)           0           ['CompetitionOpenSinceYear_Embed[\n",
      " (Flatten)                                                       0][0]']                          \n",
      "                                                                                                  \n",
      " Promo2SinceYear_flat (Flatten)  (None, 4)           0           ['Promo2SinceYear_Embed[0][0]']  \n",
      "                                                                                                  \n",
      " State_flat (Flatten)           (None, 6)            0           ['State_Embed[0][0]']            \n",
      "                                                                                                  \n",
      " Week_flat (Flatten)            (None, 6)            0           ['Week_Embed[0][0]']             \n",
      "                                                                                                  \n",
      " Events_flat (Flatten)          (None, 4)            0           ['Events_Embed[0][0]']           \n",
      "                                                                                                  \n",
      " Promo_fw_flat (Flatten)        (None, 1)            0           ['Promo_fw_Embed[0][0]']         \n",
      "                                                                                                  \n",
      " Promo_bw_flat (Flatten)        (None, 1)            0           ['Promo_bw_Embed[0][0]']         \n",
      "                                                                                                  \n",
      " StateHoliday_bool_fw_flat (Fla  (None, 1)           0           ['StateHoliday_bool_fw_Embed[0][0\n",
      " tten)                                                           ]']                              \n",
      "                                                                                                  \n",
      " StateHoliday_bool_bw_flat (Fla  (None, 1)           0           ['StateHoliday_bool_bw_Embed[0][0\n",
      " tten)                                                           ]']                              \n",
      "                                                                                                  \n",
      " SchoolHoliday_fw_flat (Flatten  (None, 1)           0           ['SchoolHoliday_fw_Embed[0][0]'] \n",
      " )                                                                                                \n",
      "                                                                                                  \n",
      " SchoolHoliday_bw_flat (Flatten  (None, 1)           0           ['SchoolHoliday_bw_Embed[0][0]'] \n",
      " )                                                                                                \n",
      "                                                                                                  \n",
      " CompetitionDistance_input (Inp  [(None, 1)]         0           []                               \n",
      " utLayer)                                                                                         \n",
      "                                                                                                  \n",
      " Max_TemperatureC_input (InputL  [(None, 1)]         0           []                               \n",
      " ayer)                                                                                            \n",
      "                                                                                                  \n",
      " Precipitationmm_input (InputLa  [(None, 1)]         0           []                               \n",
      " yer)                                                                                             \n",
      "                                                                                                  \n",
      " Max_Humidity_input (InputLayer  [(None, 1)]         0           []                               \n",
      " )                                                                                                \n",
      "                                                                                                  \n",
      " CloudCover_input (InputLayer)  [(None, 1)]          0           []                               \n",
      "                                                                                                  \n",
      " trend_input (InputLayer)       [(None, 1)]          0           []                               \n",
      "                                                                                                  \n",
      " AfterStateHoliday_bool_input (  [(None, 1)]         0           []                               \n",
      " InputLayer)                                                                                      \n",
      "                                                                                                  \n",
      " Promo_input (InputLayer)       [(None, 1)]          0           []                               \n",
      "                                                                                                  \n",
      " All_Concatenate (Concatenate)  (None, 86)           0           ['Store_flat[0][0]',             \n",
      "                                                                  'DayOfWeek_flat[0][0]',         \n",
      "                                                                  'Year_flat[0][0]',              \n",
      "                                                                  'Month_flat[0][0]',             \n",
      "                                                                  'Day_flat[0][0]',               \n",
      "                                                                  'StateHoliday_flat[0][0]',      \n",
      "                                                                  'CompetitionMonthsOpen_flat[0][0\n",
      "                                                                 ]',                              \n",
      "                                                                  'Promo2Weeks_flat[0][0]',       \n",
      "                                                                  'StoreType_flat[0][0]',         \n",
      "                                                                  'Assortment_flat[0][0]',        \n",
      "                                                                  'PromoInterval_flat[0][0]',     \n",
      "                                                                  'CompetitionOpenSinceYear_flat[0\n",
      "                                                                 ][0]',                           \n",
      "                                                                  'Promo2SinceYear_flat[0][0]',   \n",
      "                                                                  'State_flat[0][0]',             \n",
      "                                                                  'Week_flat[0][0]',              \n",
      "                                                                  'Events_flat[0][0]',            \n",
      "                                                                  'Promo_fw_flat[0][0]',          \n",
      "                                                                  'Promo_bw_flat[0][0]',          \n",
      "                                                                  'StateHoliday_bool_fw_flat[0][0]\n",
      "                                                                 ',                               \n",
      "                                                                  'StateHoliday_bool_bw_flat[0][0]\n",
      "                                                                 ',                               \n",
      "                                                                  'SchoolHoliday_fw_flat[0][0]',  \n",
      "                                                                  'SchoolHoliday_bw_flat[0][0]',  \n",
      "                                                                  'CompetitionDistance_input[0][0]\n",
      "                                                                 ',                               \n",
      "                                                                  'Max_TemperatureC_input[0][0]', \n",
      "                                                                  'Precipitationmm_input[0][0]',  \n",
      "                                                                  'Max_Humidity_input[0][0]',     \n",
      "                                                                  'CloudCover_input[0][0]',       \n",
      "                                                                  'trend_input[0][0]',            \n",
      "                                                                  'AfterStateHoliday_bool_input[0]\n",
      "                                                                 [0]',                            \n",
      "                                                                  'Promo_input[0][0]']            \n",
      "                                                                                                  \n",
      " dense (Dense)                  (None, 1000)         87000       ['All_Concatenate[0][0]']        \n",
      "                                                                                                  \n",
      " batch_normalization (BatchNorm  (None, 1000)        4000        ['dense[0][0]']                  \n",
      " alization)                                                                                       \n",
      "                                                                                                  \n",
      " activation (Activation)        (None, 1000)         0           ['batch_normalization[0][0]']    \n",
      "                                                                                                  \n",
      " dense_1 (Dense)                (None, 500)          500500      ['activation[0][0]']             \n",
      "                                                                                                  \n",
      " activation_1 (Activation)      (None, 500)          0           ['dense_1[0][0]']                \n",
      "                                                                                                  \n",
      " dense_2 (Dense)                (None, 500)          250500      ['activation_1[0][0]']           \n",
      "                                                                                                  \n",
      " activation_2 (Activation)      (None, 500)          0           ['dense_2[0][0]']                \n",
      "                                                                                                  \n",
      " Sales (Dense)                  (None, 1)            501         ['activation_2[0][0]']           \n",
      "                                                                                                  \n",
      " Customers (Dense)              (None, 1)            501         ['activation_2[0][0]']           \n",
      "                                                                                                  \n",
      "==================================================================================================\n",
      "Total params: 866,294\n",
      "Trainable params: 864,294\n",
      "Non-trainable params: 2,000\n",
      "__________________________________________________________________________________________________\n"
     ]
    }
   ],
   "source": [
    "# Descomentar para ver\n",
    "model.summary()"
   ]
  },
  {
   "cell_type": "code",
   "execution_count": 21,
   "metadata": {
    "pycharm": {
     "name": "#%%\n"
    }
   },
   "outputs": [],
   "source": [
    "model.save_weights('initial_weights.hdf5')"
   ]
  },
  {
   "cell_type": "code",
   "execution_count": 22,
   "metadata": {
    "pycharm": {
     "name": "#%%\n"
    }
   },
   "outputs": [
    {
     "name": "stdout",
     "output_type": "stream",
     "text": [
      "Cantidad en val: 30188, porcentaje: 0.9642465458145908\n"
     ]
    }
   ],
   "source": [
    "df_train = df[df.Date < datetime.datetime(2015, 7, 1)]  \n",
    "df_val = df[df.Date >= datetime.datetime(2015, 7, 1)]\n",
    "print(f'Cantidad en val: {len(df_val)}, porcentaje: {len(df_train)/(len(df_train) + len(df_val))}')"
   ]
  },
  {
   "cell_type": "code",
   "execution_count": 23,
   "metadata": {
    "pycharm": {
     "name": "#%%\n"
    }
   },
   "outputs": [],
   "source": [
    "from matplotlib import pyplot as plt\n",
    "# plt.figure(figsize=(20,5))\n",
    "# plt.plot((df_train[df_train['Store']==1]['Sales'].values - df_train[df_train['Store']==1]['Sales'].mean())/df_train[df_train['Store']==1]['Sales'].std())\n",
    "# plt.show()\n",
    "# plt.figure(figsize=(20,5))\n",
    "# plt.plot(np.log(df_train[df_train['Store']==1]['Sales'].values)/np.max(np.log(df_train[df_train['Store']==1]['Sales'].values)))\n",
    "# plt.show()"
   ]
  },
  {
   "cell_type": "code",
   "execution_count": 24,
   "metadata": {
    "pycharm": {
     "name": "#%%\n"
    }
   },
   "outputs": [],
   "source": [
    "stores_mean = {}\n",
    "for store, g_df in df_train.groupby('Store'):\n",
    "    stores_mean[store] = g_df[g_df['Sales'] > 0]['Sales'].mean()"
   ]
  },
  {
   "cell_type": "code",
   "execution_count": 25,
   "metadata": {
    "pycharm": {
     "name": "#%%\n"
    }
   },
   "outputs": [
    {
     "name": "stderr",
     "output_type": "stream",
     "text": [
      "C:\\Users\\vives\\AppData\\Local\\Temp\\ipykernel_5252\\154391213.py:1: SettingWithCopyWarning: \n",
      "A value is trying to be set on a copy of a slice from a DataFrame.\n",
      "Try using .loc[row_indexer,col_indexer] = value instead\n",
      "\n",
      "See the caveats in the documentation: https://pandas.pydata.org/pandas-docs/stable/user_guide/indexing.html#returning-a-view-versus-a-copy\n",
      "  df_train.loc[:, 'mean_by_store'] = df_train['Store'].apply(stores_mean.get)\n",
      "C:\\Users\\vives\\AppData\\Local\\Temp\\ipykernel_5252\\154391213.py:2: SettingWithCopyWarning: \n",
      "A value is trying to be set on a copy of a slice from a DataFrame.\n",
      "Try using .loc[row_indexer,col_indexer] = value instead\n",
      "\n",
      "See the caveats in the documentation: https://pandas.pydata.org/pandas-docs/stable/user_guide/indexing.html#returning-a-view-versus-a-copy\n",
      "  df_val.loc[:, 'mean_by_store'] = df_val['Store'].apply(stores_mean.get)\n",
      "C:\\Users\\vives\\AppData\\Local\\Temp\\ipykernel_5252\\154391213.py:4: SettingWithCopyWarning: \n",
      "A value is trying to be set on a copy of a slice from a DataFrame.\n",
      "Try using .loc[row_indexer,col_indexer] = value instead\n",
      "\n",
      "See the caveats in the documentation: https://pandas.pydata.org/pandas-docs/stable/user_guide/indexing.html#returning-a-view-versus-a-copy\n",
      "  df_train.loc[:, 'Sales_store'] = df_train['Sales'] - df_train['mean_by_store']\n",
      "C:\\Users\\vives\\AppData\\Local\\Temp\\ipykernel_5252\\154391213.py:5: SettingWithCopyWarning: \n",
      "A value is trying to be set on a copy of a slice from a DataFrame.\n",
      "Try using .loc[row_indexer,col_indexer] = value instead\n",
      "\n",
      "See the caveats in the documentation: https://pandas.pydata.org/pandas-docs/stable/user_guide/indexing.html#returning-a-view-versus-a-copy\n",
      "  df_val.loc[:, 'Sales_store'] = df_val['Sales'] - df_val['mean_by_store']\n"
     ]
    }
   ],
   "source": [
    "df_train.loc[:, 'mean_by_store'] = df_train['Store'].apply(stores_mean.get)\n",
    "df_val.loc[:, 'mean_by_store'] = df_val['Store'].apply(stores_mean.get)\n",
    "\n",
    "df_train.loc[:, 'Sales_store'] = df_train['Sales'] - df_train['mean_by_store']\n",
    "df_val.loc[:, 'Sales_store'] = df_val['Sales'] - df_val['mean_by_store']"
   ]
  },
  {
   "cell_type": "code",
   "execution_count": 26,
   "metadata": {
    "pycharm": {
     "name": "#%%\n"
    }
   },
   "outputs": [],
   "source": [
    "from tensorflow.keras import backend as K"
   ]
  },
  {
   "cell_type": "code",
   "execution_count": 27,
   "metadata": {
    "pycharm": {
     "name": "#%%\n"
    }
   },
   "outputs": [],
   "source": [
    "def rmspe(y_true, y_pred):\n",
    "    return K.sqrt(K.mean(K.square((y_true - y_pred)/y_true)))"
   ]
  },
  {
   "cell_type": "code",
   "execution_count": 28,
   "metadata": {
    "pycharm": {
     "name": "#%%\n"
    }
   },
   "outputs": [],
   "source": [
    "def get_metric(df, sales_):\n",
    "    return np.sqrt((((df['Sales'] - sales_)/df['Sales'])**2).mean())"
   ]
  },
  {
   "cell_type": "code",
   "execution_count": 29,
   "metadata": {
    "pycharm": {
     "name": "#%%\n"
    }
   },
   "outputs": [
    {
     "data": {
      "text/plain": "0.30717460853388645"
     },
     "execution_count": 29,
     "metadata": {},
     "output_type": "execute_result"
    }
   ],
   "source": [
    "get_metric(df_val, df_val['mean_by_store'])"
   ]
  },
  {
   "cell_type": "code",
   "execution_count": 30,
   "metadata": {
    "pycharm": {
     "name": "#%%\n"
    }
   },
   "outputs": [],
   "source": [
    "all_vars = cat_vars + contin_vars\n",
    "X_train = np.hsplit(df_train[all_vars].values, len(all_vars))\n",
    "X_val = np.hsplit(df_val[all_vars].values, len(all_vars))\n",
    "X_test = np.hsplit(df_test[all_vars].values, len(all_vars))"
   ]
  },
  {
   "cell_type": "code",
   "execution_count": 31,
   "metadata": {
    "pycharm": {
     "name": "#%%\n"
    }
   },
   "outputs": [
    {
     "name": "stderr",
     "output_type": "stream",
     "text": [
      "C:\\Users\\vives\\anaconda3\\lib\\site-packages\\numpy\\core\\fromnumeric.py:84: FutureWarning: In a future version, DataFrame.max(axis=None) will return a scalar max over the entire DataFrame. To retain the old behavior, use 'frame.max(axis=0)' or just 'frame.max()'\n",
      "  return reduction(axis=axis, out=out, **passkwargs)\n"
     ]
    }
   ],
   "source": [
    "if add_customers:\n",
    "    y_out_columns = ['Sales', 'Customers']\n",
    "else:\n",
    "    y_out_columns = ['Sales_store']\n",
    "    \n",
    "if log_output:\n",
    "    # Escala logaritmica\n",
    "    max_log_y = np.max(np.log(df[y_out_columns])).values\n",
    "    y_train = np.log(df_train[y_out_columns].values)/max_log_y\n",
    "    y_val = np.log(df_val[y_out_columns].values)/max_log_y\n",
    "else:\n",
    "    # Normalización\n",
    "    y_mean = df_train[y_out_columns].mean().values\n",
    "    y_std = df_train[y_out_columns].std().values\n",
    "#     y_train = (df_train[y_out_columns].values - y_mean)/y_std\n",
    "#     y_val = (df_val[y_out_columns].values - y_mean)/y_std\n",
    "    y_max = df_train[y_out_columns].max().values\n",
    "    y_train = df_train[y_out_columns].values/y_max\n",
    "    y_val = df_val[y_out_columns].values/y_max\n",
    "y_train = np.hsplit(y_train, y_train.shape[1])\n",
    "y_val = np.hsplit(y_val, y_val.shape[1])"
   ]
  },
  {
   "cell_type": "code",
   "execution_count": 32,
   "metadata": {
    "pycharm": {
     "name": "#%%\n"
    }
   },
   "outputs": [
    {
     "name": "stderr",
     "output_type": "stream",
     "text": [
      "C:\\Users\\vives\\anaconda3\\lib\\site-packages\\keras\\optimizers\\optimizer_v2\\adam.py:110: UserWarning: The `lr` argument is deprecated, use `learning_rate` instead.\n",
      "  super(Adam, self).__init__(name, **kwargs)\n"
     ]
    }
   ],
   "source": [
    "lr = 0.001\n",
    "model.compile(optimizer=Adam(lr=lr), metrics=['mse', rmspe], loss='mse')"
   ]
  },
  {
   "cell_type": "code",
   "execution_count": 33,
   "metadata": {
    "pycharm": {
     "name": "#%%\n"
    }
   },
   "outputs": [],
   "source": [
    "if add_customers:\n",
    "    checkpoint = ModelCheckpoint('bestmodel.hdf5', monitor='val_Sales_mse', verbose=1, save_best_only=True)\n",
    "else:\n",
    "    checkpoint = ModelCheckpoint('bestmodel.hdf5', monitor='val_loss', verbose=1, save_best_only=True)"
   ]
  },
  {
   "cell_type": "code",
   "execution_count": 34,
   "metadata": {
    "pycharm": {
     "name": "#%%\n"
    }
   },
   "outputs": [
    {
     "name": "stdout",
     "output_type": "stream",
     "text": [
      "Epoch 1/100\n",
      "\n",
      "Epoch 1: val_Sales_mse improved from inf to 0.00032, saving model to bestmodel.hdf5\n",
      "3181/3181 - 46s - loss: 0.0373 - Sales_loss: 0.0047 - Customers_loss: 0.0035 - Sales_mse: 0.0047 - Sales_rmspe: 0.0486 - Customers_mse: 0.0035 - Customers_rmspe: 0.0521 - val_loss: 0.0086 - val_Sales_loss: 3.1609e-04 - val_Customers_loss: 2.7310e-04 - val_Sales_mse: 3.1609e-04 - val_Sales_rmspe: 0.0213 - val_Customers_mse: 2.7310e-04 - val_Customers_rmspe: 0.0224 - 46s/epoch - 14ms/step\n",
      "Epoch 2/100\n",
      "\n",
      "Epoch 2: val_Sales_mse improved from 0.00032 to 0.00018, saving model to bestmodel.hdf5\n",
      "3181/3181 - 43s - loss: 0.0032 - Sales_loss: 2.2207e-04 - Customers_loss: 2.5015e-04 - Sales_mse: 2.2207e-04 - Sales_rmspe: 0.0183 - Customers_mse: 2.5015e-04 - Customers_rmspe: 0.0219 - val_loss: 8.6653e-04 - val_Sales_loss: 1.7974e-04 - val_Customers_loss: 2.6270e-04 - val_Sales_mse: 1.7974e-04 - val_Sales_rmspe: 0.0162 - val_Customers_mse: 2.6270e-04 - val_Customers_rmspe: 0.0219 - 43s/epoch - 14ms/step\n",
      "Epoch 3/100\n",
      "\n",
      "Epoch 3: val_Sales_mse improved from 0.00018 to 0.00016, saving model to bestmodel.hdf5\n",
      "3181/3181 - 42s - loss: 5.4828e-04 - Sales_loss: 1.7493e-04 - Customers_loss: 1.9689e-04 - Sales_mse: 1.7493e-04 - Sales_rmspe: 0.0162 - Customers_mse: 1.9689e-04 - Customers_rmspe: 0.0195 - val_loss: 4.9421e-04 - val_Sales_loss: 1.5825e-04 - val_Customers_loss: 2.4669e-04 - val_Sales_mse: 1.5825e-04 - val_Sales_rmspe: 0.0151 - val_Customers_mse: 2.4669e-04 - val_Customers_rmspe: 0.0211 - 42s/epoch - 13ms/step\n",
      "Epoch 4/100\n",
      "\n",
      "Epoch 4: val_Sales_mse did not improve from 0.00016\n",
      "3181/3181 - 42s - loss: 4.1902e-04 - Sales_loss: 1.6084e-04 - Customers_loss: 1.8048e-04 - Sales_mse: 1.6084e-04 - Sales_rmspe: 0.0156 - Customers_mse: 1.8048e-04 - Customers_rmspe: 0.0187 - val_loss: 4.4736e-04 - val_Sales_loss: 1.6590e-04 - val_Customers_loss: 2.1313e-04 - val_Sales_mse: 1.6590e-04 - val_Sales_rmspe: 0.0154 - val_Customers_mse: 2.1313e-04 - val_Customers_rmspe: 0.0194 - 42s/epoch - 13ms/step\n",
      "Epoch 5/100\n",
      "\n",
      "Epoch 5: val_Sales_mse did not improve from 0.00016\n",
      "3181/3181 - 44s - loss: 3.8613e-04 - Sales_loss: 1.5254e-04 - Customers_loss: 1.6940e-04 - Sales_mse: 1.5254e-04 - Sales_rmspe: 0.0152 - Customers_mse: 1.6940e-04 - Customers_rmspe: 0.0181 - val_loss: 0.0011 - val_Sales_loss: 4.3516e-04 - val_Customers_loss: 6.2071e-04 - val_Sales_mse: 4.3516e-04 - val_Sales_rmspe: 0.0247 - val_Customers_mse: 6.2071e-04 - val_Customers_rmspe: 0.0333 - 44s/epoch - 14ms/step\n",
      "Epoch 6/100\n",
      "\n",
      "Epoch 6: val_Sales_mse did not improve from 0.00016\n",
      "3181/3181 - 43s - loss: 3.7690e-04 - Sales_loss: 1.5002e-04 - Customers_loss: 1.6738e-04 - Sales_mse: 1.5002e-04 - Sales_rmspe: 0.0150 - Customers_mse: 1.6738e-04 - Customers_rmspe: 0.0179 - val_loss: 6.0393e-04 - val_Sales_loss: 2.1362e-04 - val_Customers_loss: 3.3284e-04 - val_Sales_mse: 2.1362e-04 - val_Sales_rmspe: 0.0171 - val_Customers_mse: 3.3284e-04 - val_Customers_rmspe: 0.0242 - 43s/epoch - 14ms/step\n",
      "Epoch 7/100\n",
      "\n",
      "Epoch 7: val_Sales_mse did not improve from 0.00016\n",
      "3181/3181 - 42s - loss: 3.6858e-04 - Sales_loss: 1.4795e-04 - Customers_loss: 1.6387e-04 - Sales_mse: 1.4795e-04 - Sales_rmspe: 0.0149 - Customers_mse: 1.6387e-04 - Customers_rmspe: 0.0178 - val_loss: 5.1074e-04 - val_Sales_loss: 1.8426e-04 - val_Customers_loss: 2.7091e-04 - val_Sales_mse: 1.8426e-04 - val_Sales_rmspe: 0.0165 - val_Customers_mse: 2.7091e-04 - val_Customers_rmspe: 0.0225 - 42s/epoch - 13ms/step\n",
      "Epoch 8/100\n",
      "\n",
      "Epoch 8: val_Sales_mse did not improve from 0.00016\n",
      "3181/3181 - 43s - loss: 3.5800e-04 - Sales_loss: 1.4364e-04 - Customers_loss: 1.5975e-04 - Sales_mse: 1.4364e-04 - Sales_rmspe: 0.0147 - Customers_mse: 1.5975e-04 - Customers_rmspe: 0.0175 - val_loss: 4.6065e-04 - val_Sales_loss: 1.6636e-04 - val_Customers_loss: 2.4057e-04 - val_Sales_mse: 1.6636e-04 - val_Sales_rmspe: 0.0153 - val_Customers_mse: 2.4057e-04 - val_Customers_rmspe: 0.0202 - 43s/epoch - 14ms/step\n",
      "Epoch 9/100\n",
      "\n",
      "Epoch 9: val_Sales_mse did not improve from 0.00016\n",
      "3181/3181 - 44s - loss: 3.5623e-04 - Sales_loss: 1.4377e-04 - Customers_loss: 1.5910e-04 - Sales_mse: 1.4377e-04 - Sales_rmspe: 0.0147 - Customers_mse: 1.5910e-04 - Customers_rmspe: 0.0175 - val_loss: 4.4190e-04 - val_Sales_loss: 1.7624e-04 - val_Customers_loss: 2.1234e-04 - val_Sales_mse: 1.7624e-04 - val_Sales_rmspe: 0.0158 - val_Customers_mse: 2.1234e-04 - val_Customers_rmspe: 0.0193 - 44s/epoch - 14ms/step\n",
      "Epoch 10/100\n",
      "\n",
      "Epoch 10: val_Sales_mse did not improve from 0.00016\n",
      "3181/3181 - 45s - loss: 3.5290e-04 - Sales_loss: 1.4209e-04 - Customers_loss: 1.5820e-04 - Sales_mse: 1.4209e-04 - Sales_rmspe: 0.0146 - Customers_mse: 1.5820e-04 - Customers_rmspe: 0.0174 - val_loss: 4.8728e-04 - val_Sales_loss: 2.1355e-04 - val_Customers_loss: 2.2171e-04 - val_Sales_mse: 2.1355e-04 - val_Sales_rmspe: 0.0171 - val_Customers_mse: 2.2171e-04 - val_Customers_rmspe: 0.0197 - 45s/epoch - 14ms/step\n",
      "Epoch 11/100\n",
      "\n",
      "Epoch 11: val_Sales_mse did not improve from 0.00016\n",
      "3181/3181 - 42s - loss: 3.4449e-04 - Sales_loss: 1.3987e-04 - Customers_loss: 1.5343e-04 - Sales_mse: 1.3987e-04 - Sales_rmspe: 0.0145 - Customers_mse: 1.5343e-04 - Customers_rmspe: 0.0172 - val_loss: 4.2440e-04 - val_Sales_loss: 1.7227e-04 - val_Customers_loss: 2.0088e-04 - val_Sales_mse: 1.7227e-04 - val_Sales_rmspe: 0.0158 - val_Customers_mse: 2.0088e-04 - val_Customers_rmspe: 0.0190 - 42s/epoch - 13ms/step\n",
      "Epoch 12/100\n",
      "\n",
      "Epoch 12: val_Sales_mse did not improve from 0.00016\n",
      "3181/3181 - 41s - loss: 3.4497e-04 - Sales_loss: 1.3932e-04 - Customers_loss: 1.5511e-04 - Sales_mse: 1.3932e-04 - Sales_rmspe: 0.0145 - Customers_mse: 1.5511e-04 - Customers_rmspe: 0.0173 - val_loss: 4.2824e-04 - val_Sales_loss: 1.9068e-04 - val_Customers_loss: 1.8784e-04 - val_Sales_mse: 1.9068e-04 - val_Sales_rmspe: 0.0164 - val_Customers_mse: 1.8784e-04 - val_Customers_rmspe: 0.0184 - 41s/epoch - 13ms/step\n",
      "Epoch 13/100\n",
      "\n",
      "Epoch 13: val_Sales_mse did not improve from 0.00016\n",
      "3181/3181 - 42s - loss: 3.4250e-04 - Sales_loss: 1.3892e-04 - Customers_loss: 1.5358e-04 - Sales_mse: 1.3892e-04 - Sales_rmspe: 0.0145 - Customers_mse: 1.5358e-04 - Customers_rmspe: 0.0172 - val_loss: 7.8494e-04 - val_Sales_loss: 4.5435e-04 - val_Customers_loss: 2.8122e-04 - val_Sales_mse: 4.5435e-04 - val_Sales_rmspe: 0.0256 - val_Customers_mse: 2.8122e-04 - val_Customers_rmspe: 0.0225 - 42s/epoch - 13ms/step\n",
      "Epoch 14/100\n",
      "\n",
      "Epoch 14: val_Sales_mse did not improve from 0.00016\n",
      "3181/3181 - 42s - loss: 3.3804e-04 - Sales_loss: 1.3675e-04 - Customers_loss: 1.5214e-04 - Sales_mse: 1.3675e-04 - Sales_rmspe: 0.0144 - Customers_mse: 1.5214e-04 - Customers_rmspe: 0.0171 - val_loss: 8.9271e-04 - val_Sales_loss: 3.6233e-04 - val_Customers_loss: 4.8099e-04 - val_Sales_mse: 3.6233e-04 - val_Sales_rmspe: 0.0228 - val_Customers_mse: 4.8099e-04 - val_Customers_rmspe: 0.0299 - 42s/epoch - 13ms/step\n",
      "Epoch 15/100\n",
      "\n",
      "Epoch 15: val_Sales_mse improved from 0.00016 to 0.00016, saving model to bestmodel.hdf5\n",
      "3181/3181 - 43s - loss: 3.4039e-04 - Sales_loss: 1.3828e-04 - Customers_loss: 1.5337e-04 - Sales_mse: 1.3828e-04 - Sales_rmspe: 0.0144 - Customers_mse: 1.5337e-04 - Customers_rmspe: 0.0172 - val_loss: 5.7947e-04 - val_Sales_loss: 1.5803e-04 - val_Customers_loss: 3.7206e-04 - val_Sales_mse: 1.5803e-04 - val_Sales_rmspe: 0.0151 - val_Customers_mse: 3.7206e-04 - val_Customers_rmspe: 0.0251 - 43s/epoch - 14ms/step\n",
      "Epoch 16/100\n",
      "\n",
      "Epoch 16: val_Sales_mse did not improve from 0.00016\n",
      "3181/3181 - 43s - loss: 3.3590e-04 - Sales_loss: 1.3674e-04 - Customers_loss: 1.5081e-04 - Sales_mse: 1.3674e-04 - Sales_rmspe: 0.0144 - Customers_mse: 1.5081e-04 - Customers_rmspe: 0.0170 - val_loss: 5.5265e-04 - val_Sales_loss: 2.6437e-04 - val_Customers_loss: 2.4021e-04 - val_Sales_mse: 2.6437e-04 - val_Sales_rmspe: 0.0196 - val_Customers_mse: 2.4021e-04 - val_Customers_rmspe: 0.0211 - 43s/epoch - 14ms/step\n",
      "Epoch 17/100\n",
      "\n",
      "Epoch 17: val_Sales_mse did not improve from 0.00016\n",
      "3181/3181 - 44s - loss: 3.3135e-04 - Sales_loss: 1.3497e-04 - Customers_loss: 1.4864e-04 - Sales_mse: 1.3497e-04 - Sales_rmspe: 0.0143 - Customers_mse: 1.4864e-04 - Customers_rmspe: 0.0169 - val_loss: 6.0454e-04 - val_Sales_loss: 2.9509e-04 - val_Customers_loss: 2.6136e-04 - val_Sales_mse: 2.9509e-04 - val_Sales_rmspe: 0.0202 - val_Customers_mse: 2.6136e-04 - val_Customers_rmspe: 0.0213 - 44s/epoch - 14ms/step\n",
      "Epoch 18/100\n",
      "\n",
      "Epoch 18: val_Sales_mse did not improve from 0.00016\n",
      "3181/3181 - 44s - loss: 3.3073e-04 - Sales_loss: 1.3426e-04 - Customers_loss: 1.4910e-04 - Sales_mse: 1.3426e-04 - Sales_rmspe: 0.0142 - Customers_mse: 1.4910e-04 - Customers_rmspe: 0.0170 - val_loss: 8.2789e-04 - val_Sales_loss: 3.3222e-04 - val_Customers_loss: 4.4892e-04 - val_Sales_mse: 3.3222e-04 - val_Sales_rmspe: 0.0216 - val_Customers_mse: 4.4892e-04 - val_Customers_rmspe: 0.0288 - 44s/epoch - 14ms/step\n",
      "Epoch 19/100\n",
      "\n",
      "Epoch 19: val_Sales_mse did not improve from 0.00016\n",
      "3181/3181 - 46s - loss: 3.3188e-04 - Sales_loss: 1.3494e-04 - Customers_loss: 1.4977e-04 - Sales_mse: 1.3494e-04 - Sales_rmspe: 0.0143 - Customers_mse: 1.4977e-04 - Customers_rmspe: 0.0170 - val_loss: 3.8881e-04 - val_Sales_loss: 1.6609e-04 - val_Customers_loss: 1.7570e-04 - val_Sales_mse: 1.6609e-04 - val_Sales_rmspe: 0.0154 - val_Customers_mse: 1.7570e-04 - val_Customers_rmspe: 0.0178 - 46s/epoch - 14ms/step\n",
      "Epoch 20/100\n",
      "\n",
      "Epoch 20: val_Sales_mse did not improve from 0.00016\n",
      "3181/3181 - 45s - loss: 3.2786e-04 - Sales_loss: 1.3328e-04 - Customers_loss: 1.4772e-04 - Sales_mse: 1.3328e-04 - Sales_rmspe: 0.0142 - Customers_mse: 1.4772e-04 - Customers_rmspe: 0.0169 - val_loss: 4.4923e-04 - val_Sales_loss: 1.8428e-04 - val_Customers_loss: 2.1893e-04 - val_Sales_mse: 1.8428e-04 - val_Sales_rmspe: 0.0164 - val_Customers_mse: 2.1893e-04 - val_Customers_rmspe: 0.0196 - 45s/epoch - 14ms/step\n",
      "Epoch 21/100\n",
      "\n",
      "Epoch 21: val_Sales_mse improved from 0.00016 to 0.00015, saving model to bestmodel.hdf5\n",
      "3181/3181 - 43s - loss: 3.2608e-04 - Sales_loss: 1.3284e-04 - Customers_loss: 1.4643e-04 - Sales_mse: 1.3284e-04 - Sales_rmspe: 0.0142 - Customers_mse: 1.4643e-04 - Customers_rmspe: 0.0168 - val_loss: 5.0101e-04 - val_Sales_loss: 1.4750e-04 - val_Customers_loss: 3.0757e-04 - val_Sales_mse: 1.4750e-04 - val_Sales_rmspe: 0.0146 - val_Customers_mse: 3.0757e-04 - val_Customers_rmspe: 0.0231 - 43s/epoch - 14ms/step\n",
      "Epoch 22/100\n",
      "\n",
      "Epoch 22: val_Sales_mse did not improve from 0.00015\n",
      "3181/3181 - 43s - loss: 3.2780e-04 - Sales_loss: 1.3357e-04 - Customers_loss: 1.4758e-04 - Sales_mse: 1.3357e-04 - Sales_rmspe: 0.0142 - Customers_mse: 1.4758e-04 - Customers_rmspe: 0.0169 - val_loss: 6.8077e-04 - val_Sales_loss: 2.7541e-04 - val_Customers_loss: 3.5948e-04 - val_Sales_mse: 2.7541e-04 - val_Sales_rmspe: 0.0196 - val_Customers_mse: 3.5948e-04 - val_Customers_rmspe: 0.0252 - 43s/epoch - 14ms/step\n",
      "Epoch 23/100\n",
      "\n",
      "Epoch 23: val_Sales_mse did not improve from 0.00015\n",
      "3181/3181 - 45s - loss: 3.2518e-04 - Sales_loss: 1.3315e-04 - Customers_loss: 1.4598e-04 - Sales_mse: 1.3315e-04 - Sales_rmspe: 0.0142 - Customers_mse: 1.4598e-04 - Customers_rmspe: 0.0168 - val_loss: 4.2763e-04 - val_Sales_loss: 1.4992e-04 - val_Customers_loss: 2.3185e-04 - val_Sales_mse: 1.4992e-04 - val_Sales_rmspe: 0.0147 - val_Customers_mse: 2.3185e-04 - val_Customers_rmspe: 0.0204 - 45s/epoch - 14ms/step\n",
      "Epoch 24/100\n",
      "\n",
      "Epoch 24: val_Sales_mse did not improve from 0.00015\n",
      "3181/3181 - 45s - loss: 3.2391e-04 - Sales_loss: 1.3210e-04 - Customers_loss: 1.4612e-04 - Sales_mse: 1.3210e-04 - Sales_rmspe: 0.0141 - Customers_mse: 1.4612e-04 - Customers_rmspe: 0.0168 - val_loss: 3.8369e-04 - val_Sales_loss: 1.6393e-04 - val_Customers_loss: 1.7349e-04 - val_Sales_mse: 1.6393e-04 - val_Sales_rmspe: 0.0154 - val_Customers_mse: 1.7349e-04 - val_Customers_rmspe: 0.0178 - 45s/epoch - 14ms/step\n",
      "Epoch 25/100\n",
      "\n",
      "Epoch 25: val_Sales_mse did not improve from 0.00015\n",
      "3181/3181 - 43s - loss: 3.2393e-04 - Sales_loss: 1.3212e-04 - Customers_loss: 1.4624e-04 - Sales_mse: 1.3212e-04 - Sales_rmspe: 0.0141 - Customers_mse: 1.4624e-04 - Customers_rmspe: 0.0168 - val_loss: 8.8456e-04 - val_Sales_loss: 2.6843e-04 - val_Customers_loss: 5.7046e-04 - val_Sales_mse: 2.6843e-04 - val_Sales_rmspe: 0.0194 - val_Customers_mse: 5.7046e-04 - val_Customers_rmspe: 0.0322 - 43s/epoch - 14ms/step\n",
      "Epoch 26/100\n",
      "\n",
      "Epoch 26: val_Sales_mse did not improve from 0.00015\n",
      "3181/3181 - 42s - loss: 3.2138e-04 - Sales_loss: 1.3128e-04 - Customers_loss: 1.4474e-04 - Sales_mse: 1.3128e-04 - Sales_rmspe: 0.0141 - Customers_mse: 1.4474e-04 - Customers_rmspe: 0.0167 - val_loss: 3.7720e-04 - val_Sales_loss: 1.4754e-04 - val_Customers_loss: 1.8344e-04 - val_Sales_mse: 1.4754e-04 - val_Sales_rmspe: 0.0146 - val_Customers_mse: 1.8344e-04 - val_Customers_rmspe: 0.0184 - 42s/epoch - 13ms/step\n",
      "Epoch 27/100\n",
      "\n",
      "Epoch 27: val_Sales_mse did not improve from 0.00015\n",
      "3181/3181 - 43s - loss: 3.2167e-04 - Sales_loss: 1.3185e-04 - Customers_loss: 1.4433e-04 - Sales_mse: 1.3185e-04 - Sales_rmspe: 0.0141 - Customers_mse: 1.4433e-04 - Customers_rmspe: 0.0167 - val_loss: 4.7868e-04 - val_Sales_loss: 1.5738e-04 - val_Customers_loss: 2.7654e-04 - val_Sales_mse: 1.5738e-04 - val_Sales_rmspe: 0.0150 - val_Customers_mse: 2.7654e-04 - val_Customers_rmspe: 0.0220 - 43s/epoch - 14ms/step\n",
      "Epoch 28/100\n",
      "\n",
      "Epoch 28: val_Sales_mse did not improve from 0.00015\n",
      "3181/3181 - 43s - loss: 3.2051e-04 - Sales_loss: 1.3060e-04 - Customers_loss: 1.4486e-04 - Sales_mse: 1.3060e-04 - Sales_rmspe: 0.0140 - Customers_mse: 1.4486e-04 - Customers_rmspe: 0.0167 - val_loss: 3.9121e-04 - val_Sales_loss: 1.5450e-04 - val_Customers_loss: 1.9219e-04 - val_Sales_mse: 1.5450e-04 - val_Sales_rmspe: 0.0150 - val_Customers_mse: 1.9219e-04 - val_Customers_rmspe: 0.0187 - 43s/epoch - 14ms/step\n",
      "Epoch 29/100\n",
      "\n",
      "Epoch 29: val_Sales_mse improved from 0.00015 to 0.00014, saving model to bestmodel.hdf5\n",
      "3181/3181 - 43s - loss: 3.2065e-04 - Sales_loss: 1.3138e-04 - Customers_loss: 1.4468e-04 - Sales_mse: 1.3138e-04 - Sales_rmspe: 0.0141 - Customers_mse: 1.4468e-04 - Customers_rmspe: 0.0167 - val_loss: 3.3502e-04 - val_Sales_loss: 1.3908e-04 - val_Customers_loss: 1.5149e-04 - val_Sales_mse: 1.3908e-04 - val_Sales_rmspe: 0.0142 - val_Customers_mse: 1.5149e-04 - val_Customers_rmspe: 0.0167 - 43s/epoch - 13ms/step\n",
      "Epoch 30/100\n",
      "\n",
      "Epoch 30: val_Sales_mse did not improve from 0.00014\n",
      "3181/3181 - 44s - loss: 3.1883e-04 - Sales_loss: 1.3048e-04 - Customers_loss: 1.4398e-04 - Sales_mse: 1.3048e-04 - Sales_rmspe: 0.0141 - Customers_mse: 1.4398e-04 - Customers_rmspe: 0.0167 - val_loss: 4.0863e-04 - val_Sales_loss: 1.7477e-04 - val_Customers_loss: 1.8963e-04 - val_Sales_mse: 1.7477e-04 - val_Sales_rmspe: 0.0157 - val_Customers_mse: 1.8963e-04 - val_Customers_rmspe: 0.0185 - 44s/epoch - 14ms/step\n",
      "Epoch 31/100\n",
      "\n",
      "Epoch 31: val_Sales_mse did not improve from 0.00014\n",
      "3181/3181 - 45s - loss: 3.1766e-04 - Sales_loss: 1.2979e-04 - Customers_loss: 1.4367e-04 - Sales_mse: 1.2979e-04 - Sales_rmspe: 0.0140 - Customers_mse: 1.4367e-04 - Customers_rmspe: 0.0167 - val_loss: 3.9043e-04 - val_Sales_loss: 1.7665e-04 - val_Customers_loss: 1.6990e-04 - val_Sales_mse: 1.7665e-04 - val_Sales_rmspe: 0.0160 - val_Customers_mse: 1.6990e-04 - val_Customers_rmspe: 0.0177 - 45s/epoch - 14ms/step\n",
      "Epoch 32/100\n",
      "\n",
      "Epoch 32: val_Sales_mse did not improve from 0.00014\n",
      "3181/3181 - 44s - loss: 3.1802e-04 - Sales_loss: 1.3005e-04 - Customers_loss: 1.4404e-04 - Sales_mse: 1.3005e-04 - Sales_rmspe: 0.0140 - Customers_mse: 1.4404e-04 - Customers_rmspe: 0.0167 - val_loss: 4.8810e-04 - val_Sales_loss: 2.4619e-04 - val_Customers_loss: 1.9748e-04 - val_Sales_mse: 2.4619e-04 - val_Sales_rmspe: 0.0184 - val_Customers_mse: 1.9748e-04 - val_Customers_rmspe: 0.0187 - 44s/epoch - 14ms/step\n",
      "Epoch 33/100\n",
      "\n",
      "Epoch 33: val_Sales_mse did not improve from 0.00014\n",
      "3181/3181 - 44s - loss: 3.1209e-04 - Sales_loss: 1.2792e-04 - Customers_loss: 1.4048e-04 - Sales_mse: 1.2792e-04 - Sales_rmspe: 0.0139 - Customers_mse: 1.4048e-04 - Customers_rmspe: 0.0165 - val_loss: 3.6742e-04 - val_Sales_loss: 1.6507e-04 - val_Customers_loss: 1.5897e-04 - val_Sales_mse: 1.6507e-04 - val_Sales_rmspe: 0.0154 - val_Customers_mse: 1.5897e-04 - val_Customers_rmspe: 0.0169 - 44s/epoch - 14ms/step\n",
      "Epoch 34/100\n",
      "\n",
      "Epoch 34: val_Sales_mse did not improve from 0.00014\n",
      "3181/3181 - 45s - loss: 3.1394e-04 - Sales_loss: 1.2810e-04 - Customers_loss: 1.4222e-04 - Sales_mse: 1.2810e-04 - Sales_rmspe: 0.0139 - Customers_mse: 1.4222e-04 - Customers_rmspe: 0.0166 - val_loss: 4.1071e-04 - val_Sales_loss: 2.1494e-04 - val_Customers_loss: 1.5247e-04 - val_Sales_mse: 2.1494e-04 - val_Sales_rmspe: 0.0173 - val_Customers_mse: 1.5247e-04 - val_Customers_rmspe: 0.0167 - 45s/epoch - 14ms/step\n",
      "Epoch 35/100\n",
      "\n",
      "Epoch 35: val_Sales_mse did not improve from 0.00014\n",
      "3181/3181 - 46s - loss: 3.1626e-04 - Sales_loss: 1.3003e-04 - Customers_loss: 1.4264e-04 - Sales_mse: 1.3003e-04 - Sales_rmspe: 0.0140 - Customers_mse: 1.4264e-04 - Customers_rmspe: 0.0166 - val_loss: 4.2437e-04 - val_Sales_loss: 1.8813e-04 - val_Customers_loss: 1.9279e-04 - val_Sales_mse: 1.8813e-04 - val_Sales_rmspe: 0.0164 - val_Customers_mse: 1.9279e-04 - val_Customers_rmspe: 0.0185 - 46s/epoch - 14ms/step\n",
      "Epoch 36/100\n",
      "\n",
      "Epoch 36: val_Sales_mse did not improve from 0.00014\n",
      "3181/3181 - 47s - loss: 3.1565e-04 - Sales_loss: 1.2897e-04 - Customers_loss: 1.4304e-04 - Sales_mse: 1.2897e-04 - Sales_rmspe: 0.0140 - Customers_mse: 1.4304e-04 - Customers_rmspe: 0.0166 - val_loss: 3.6395e-04 - val_Sales_loss: 1.5340e-04 - val_Customers_loss: 1.6792e-04 - val_Sales_mse: 1.5340e-04 - val_Sales_rmspe: 0.0148 - val_Customers_mse: 1.6792e-04 - val_Customers_rmspe: 0.0175 - 47s/epoch - 15ms/step\n",
      "Epoch 37/100\n",
      "\n",
      "Epoch 37: val_Sales_mse did not improve from 0.00014\n",
      "3181/3181 - 48s - loss: 3.1208e-04 - Sales_loss: 1.2766e-04 - Customers_loss: 1.4129e-04 - Sales_mse: 1.2766e-04 - Sales_rmspe: 0.0139 - Customers_mse: 1.4129e-04 - Customers_rmspe: 0.0165 - val_loss: 3.6599e-04 - val_Sales_loss: 1.5829e-04 - val_Customers_loss: 1.6454e-04 - val_Sales_mse: 1.5829e-04 - val_Sales_rmspe: 0.0150 - val_Customers_mse: 1.6454e-04 - val_Customers_rmspe: 0.0173 - 48s/epoch - 15ms/step\n",
      "Epoch 38/100\n",
      "\n",
      "Epoch 38: val_Sales_mse did not improve from 0.00014\n",
      "3181/3181 - 47s - loss: 3.0975e-04 - Sales_loss: 1.2742e-04 - Customers_loss: 1.3934e-04 - Sales_mse: 1.2742e-04 - Sales_rmspe: 0.0139 - Customers_mse: 1.3934e-04 - Customers_rmspe: 0.0164 - val_loss: 3.6418e-04 - val_Sales_loss: 1.5132e-04 - val_Customers_loss: 1.6937e-04 - val_Sales_mse: 1.5132e-04 - val_Sales_rmspe: 0.0149 - val_Customers_mse: 1.6937e-04 - val_Customers_rmspe: 0.0177 - 47s/epoch - 15ms/step\n",
      "Epoch 39/100\n",
      "\n",
      "Epoch 39: val_Sales_mse did not improve from 0.00014\n",
      "3181/3181 - 46s - loss: 3.1273e-04 - Sales_loss: 1.2808e-04 - Customers_loss: 1.4149e-04 - Sales_mse: 1.2808e-04 - Sales_rmspe: 0.0139 - Customers_mse: 1.4149e-04 - Customers_rmspe: 0.0165 - val_loss: 3.9588e-04 - val_Sales_loss: 1.7369e-04 - val_Customers_loss: 1.7884e-04 - val_Sales_mse: 1.7369e-04 - val_Sales_rmspe: 0.0158 - val_Customers_mse: 1.7884e-04 - val_Customers_rmspe: 0.0180 - 46s/epoch - 15ms/step\n",
      "Epoch 40/100\n",
      "\n",
      "Epoch 40: val_Sales_mse did not improve from 0.00014\n",
      "3181/3181 - 45s - loss: 3.1224e-04 - Sales_loss: 1.2715e-04 - Customers_loss: 1.4201e-04 - Sales_mse: 1.2715e-04 - Sales_rmspe: 0.0139 - Customers_mse: 1.4201e-04 - Customers_rmspe: 0.0166 - val_loss: 3.7579e-04 - val_Sales_loss: 1.5428e-04 - val_Customers_loss: 1.7867e-04 - val_Sales_mse: 1.5428e-04 - val_Sales_rmspe: 0.0149 - val_Customers_mse: 1.7867e-04 - val_Customers_rmspe: 0.0180 - 45s/epoch - 14ms/step\n",
      "Epoch 41/100\n",
      "\n",
      "Epoch 41: val_Sales_mse did not improve from 0.00014\n",
      "3181/3181 - 45s - loss: 3.0938e-04 - Sales_loss: 1.2687e-04 - Customers_loss: 1.3971e-04 - Sales_mse: 1.2687e-04 - Sales_rmspe: 0.0139 - Customers_mse: 1.3971e-04 - Customers_rmspe: 0.0164 - val_loss: 3.9401e-04 - val_Sales_loss: 1.6774e-04 - val_Customers_loss: 1.8312e-04 - val_Sales_mse: 1.6774e-04 - val_Sales_rmspe: 0.0156 - val_Customers_mse: 1.8312e-04 - val_Customers_rmspe: 0.0183 - 45s/epoch - 14ms/step\n",
      "Epoch 42/100\n",
      "\n",
      "Epoch 42: val_Sales_mse did not improve from 0.00014\n",
      "3181/3181 - 48s - loss: 3.1290e-04 - Sales_loss: 1.2774e-04 - Customers_loss: 1.4242e-04 - Sales_mse: 1.2774e-04 - Sales_rmspe: 0.0139 - Customers_mse: 1.4242e-04 - Customers_rmspe: 0.0166 - val_loss: 4.5275e-04 - val_Sales_loss: 2.0948e-04 - val_Customers_loss: 2.0026e-04 - val_Sales_mse: 2.0948e-04 - val_Sales_rmspe: 0.0170 - val_Customers_mse: 2.0026e-04 - val_Customers_rmspe: 0.0186 - 48s/epoch - 15ms/step\n",
      "Epoch 43/100\n",
      "\n",
      "Epoch 43: val_Sales_mse did not improve from 0.00014\n",
      "3181/3181 - 45s - loss: 3.0806e-04 - Sales_loss: 1.2574e-04 - Customers_loss: 1.3968e-04 - Sales_mse: 1.2574e-04 - Sales_rmspe: 0.0138 - Customers_mse: 1.3968e-04 - Customers_rmspe: 0.0164 - val_loss: 3.9172e-04 - val_Sales_loss: 1.5147e-04 - val_Customers_loss: 1.9593e-04 - val_Sales_mse: 1.5147e-04 - val_Sales_rmspe: 0.0148 - val_Customers_mse: 1.9593e-04 - val_Customers_rmspe: 0.0189 - 45s/epoch - 14ms/step\n",
      "Epoch 44/100\n",
      "\n",
      "Epoch 44: val_Sales_mse did not improve from 0.00014\n",
      "3181/3181 - 44s - loss: 3.1038e-04 - Sales_loss: 1.2720e-04 - Customers_loss: 1.4027e-04 - Sales_mse: 1.2720e-04 - Sales_rmspe: 0.0139 - Customers_mse: 1.4027e-04 - Customers_rmspe: 0.0165 - val_loss: 3.8865e-04 - val_Sales_loss: 1.7504e-04 - val_Customers_loss: 1.7107e-04 - val_Sales_mse: 1.7504e-04 - val_Sales_rmspe: 0.0157 - val_Customers_mse: 1.7107e-04 - val_Customers_rmspe: 0.0175 - 44s/epoch - 14ms/step\n",
      "Epoch 45/100\n",
      "\n",
      "Epoch 45: val_Sales_mse did not improve from 0.00014\n",
      "3181/3181 - 46s - loss: 3.0931e-04 - Sales_loss: 1.2662e-04 - Customers_loss: 1.3980e-04 - Sales_mse: 1.2662e-04 - Sales_rmspe: 0.0138 - Customers_mse: 1.3980e-04 - Customers_rmspe: 0.0164 - val_loss: 3.4225e-04 - val_Sales_loss: 1.4254e-04 - val_Customers_loss: 1.5603e-04 - val_Sales_mse: 1.4254e-04 - val_Sales_rmspe: 0.0144 - val_Customers_mse: 1.5603e-04 - val_Customers_rmspe: 0.0169 - 46s/epoch - 14ms/step\n",
      "Epoch 46/100\n",
      "\n",
      "Epoch 46: val_Sales_mse did not improve from 0.00014\n",
      "3181/3181 - 46s - loss: 3.0792e-04 - Sales_loss: 1.2660e-04 - Customers_loss: 1.3854e-04 - Sales_mse: 1.2660e-04 - Sales_rmspe: 0.0138 - Customers_mse: 1.3854e-04 - Customers_rmspe: 0.0164 - val_loss: 3.8109e-04 - val_Sales_loss: 1.5021e-04 - val_Customers_loss: 1.8853e-04 - val_Sales_mse: 1.5021e-04 - val_Sales_rmspe: 0.0147 - val_Customers_mse: 1.8853e-04 - val_Customers_rmspe: 0.0184 - 46s/epoch - 15ms/step\n",
      "Epoch 47/100\n",
      "\n",
      "Epoch 47: val_Sales_mse did not improve from 0.00014\n",
      "3181/3181 - 45s - loss: 3.0802e-04 - Sales_loss: 1.2612e-04 - Customers_loss: 1.3917e-04 - Sales_mse: 1.2612e-04 - Sales_rmspe: 0.0138 - Customers_mse: 1.3917e-04 - Customers_rmspe: 0.0164 - val_loss: 3.6396e-04 - val_Sales_loss: 1.4692e-04 - val_Customers_loss: 1.7522e-04 - val_Sales_mse: 1.4692e-04 - val_Sales_rmspe: 0.0146 - val_Customers_mse: 1.7522e-04 - val_Customers_rmspe: 0.0178 - 45s/epoch - 14ms/step\n",
      "Epoch 48/100\n",
      "\n",
      "Epoch 48: val_Sales_mse did not improve from 0.00014\n",
      "3181/3181 - 45s - loss: 3.0774e-04 - Sales_loss: 1.2595e-04 - Customers_loss: 1.3947e-04 - Sales_mse: 1.2595e-04 - Sales_rmspe: 0.0138 - Customers_mse: 1.3947e-04 - Customers_rmspe: 0.0164 - val_loss: 3.4602e-04 - val_Sales_loss: 1.5472e-04 - val_Customers_loss: 1.4846e-04 - val_Sales_mse: 1.5472e-04 - val_Sales_rmspe: 0.0149 - val_Customers_mse: 1.4846e-04 - val_Customers_rmspe: 0.0165 - 45s/epoch - 14ms/step\n",
      "Epoch 49/100\n",
      "\n",
      "Epoch 49: val_Sales_mse did not improve from 0.00014\n",
      "3181/3181 - 44s - loss: 3.0778e-04 - Sales_loss: 1.2654e-04 - Customers_loss: 1.3851e-04 - Sales_mse: 1.2654e-04 - Sales_rmspe: 0.0138 - Customers_mse: 1.3851e-04 - Customers_rmspe: 0.0164 - val_loss: 4.9262e-04 - val_Sales_loss: 2.0449e-04 - val_Customers_loss: 2.4526e-04 - val_Sales_mse: 2.0449e-04 - val_Sales_rmspe: 0.0169 - val_Customers_mse: 2.4526e-04 - val_Customers_rmspe: 0.0206 - 44s/epoch - 14ms/step\n",
      "Epoch 50/100\n",
      "\n",
      "Epoch 50: val_Sales_mse did not improve from 0.00014\n",
      "3181/3181 - 47s - loss: 3.0494e-04 - Sales_loss: 1.2552e-04 - Customers_loss: 1.3695e-04 - Sales_mse: 1.2552e-04 - Sales_rmspe: 0.0138 - Customers_mse: 1.3695e-04 - Customers_rmspe: 0.0163 - val_loss: 4.3163e-04 - val_Sales_loss: 1.9732e-04 - val_Customers_loss: 1.9112e-04 - val_Sales_mse: 1.9732e-04 - val_Sales_rmspe: 0.0170 - val_Customers_mse: 1.9112e-04 - val_Customers_rmspe: 0.0189 - 47s/epoch - 15ms/step\n",
      "Epoch 51/100\n",
      "\n",
      "Epoch 51: val_Sales_mse did not improve from 0.00014\n",
      "3181/3181 - 47s - loss: 3.0598e-04 - Sales_loss: 1.2595e-04 - Customers_loss: 1.3772e-04 - Sales_mse: 1.2595e-04 - Sales_rmspe: 0.0138 - Customers_mse: 1.3772e-04 - Customers_rmspe: 0.0163 - val_loss: 3.3471e-04 - val_Sales_loss: 1.4050e-04 - val_Customers_loss: 1.5199e-04 - val_Sales_mse: 1.4050e-04 - val_Sales_rmspe: 0.0142 - val_Customers_mse: 1.5199e-04 - val_Customers_rmspe: 0.0167 - 47s/epoch - 15ms/step\n",
      "Epoch 52/100\n",
      "\n",
      "Epoch 52: val_Sales_mse did not improve from 0.00014\n",
      "3181/3181 - 48s - loss: 3.0451e-04 - Sales_loss: 1.2539e-04 - Customers_loss: 1.3693e-04 - Sales_mse: 1.2539e-04 - Sales_rmspe: 0.0138 - Customers_mse: 1.3693e-04 - Customers_rmspe: 0.0163 - val_loss: 4.6746e-04 - val_Sales_loss: 2.3247e-04 - val_Customers_loss: 1.9296e-04 - val_Sales_mse: 2.3247e-04 - val_Sales_rmspe: 0.0182 - val_Customers_mse: 1.9296e-04 - val_Customers_rmspe: 0.0186 - 48s/epoch - 15ms/step\n",
      "Epoch 53/100\n",
      "\n",
      "Epoch 53: val_Sales_mse did not improve from 0.00014\n",
      "3181/3181 - 50s - loss: 3.0284e-04 - Sales_loss: 1.2424e-04 - Customers_loss: 1.3655e-04 - Sales_mse: 1.2424e-04 - Sales_rmspe: 0.0137 - Customers_mse: 1.3655e-04 - Customers_rmspe: 0.0163 - val_loss: 5.5036e-04 - val_Sales_loss: 2.9353e-04 - val_Customers_loss: 2.1524e-04 - val_Sales_mse: 2.9353e-04 - val_Sales_rmspe: 0.0204 - val_Customers_mse: 2.1524e-04 - val_Customers_rmspe: 0.0195 - 50s/epoch - 16ms/step\n",
      "Epoch 54/100\n",
      "\n",
      "Epoch 54: val_Sales_mse did not improve from 0.00014\n",
      "3181/3181 - 47s - loss: 3.0525e-04 - Sales_loss: 1.2557e-04 - Customers_loss: 1.3751e-04 - Sales_mse: 1.2557e-04 - Sales_rmspe: 0.0138 - Customers_mse: 1.3751e-04 - Customers_rmspe: 0.0163 - val_loss: 3.8228e-04 - val_Sales_loss: 1.7846e-04 - val_Customers_loss: 1.6212e-04 - val_Sales_mse: 1.7846e-04 - val_Sales_rmspe: 0.0161 - val_Customers_mse: 1.6212e-04 - val_Customers_rmspe: 0.0173 - 47s/epoch - 15ms/step\n",
      "Epoch 55/100\n",
      "\n",
      "Epoch 55: val_Sales_mse did not improve from 0.00014\n",
      "3181/3181 - 48s - loss: 3.0453e-04 - Sales_loss: 1.2493e-04 - Customers_loss: 1.3752e-04 - Sales_mse: 1.2493e-04 - Sales_rmspe: 0.0137 - Customers_mse: 1.3752e-04 - Customers_rmspe: 0.0163 - val_loss: 5.0727e-04 - val_Sales_loss: 2.4248e-04 - val_Customers_loss: 2.2264e-04 - val_Sales_mse: 2.4248e-04 - val_Sales_rmspe: 0.0185 - val_Customers_mse: 2.2264e-04 - val_Customers_rmspe: 0.0199 - 48s/epoch - 15ms/step\n",
      "Epoch 56/100\n",
      "\n",
      "Epoch 56: val_Sales_mse did not improve from 0.00014\n",
      "3181/3181 - 49s - loss: 3.0108e-04 - Sales_loss: 1.2400e-04 - Customers_loss: 1.3496e-04 - Sales_mse: 1.2400e-04 - Sales_rmspe: 0.0137 - Customers_mse: 1.3496e-04 - Customers_rmspe: 0.0162 - val_loss: 4.7211e-04 - val_Sales_loss: 2.4150e-04 - val_Customers_loss: 1.8825e-04 - val_Sales_mse: 2.4150e-04 - val_Sales_rmspe: 0.0182 - val_Customers_mse: 1.8825e-04 - val_Customers_rmspe: 0.0184 - 49s/epoch - 15ms/step\n",
      "Epoch 57/100\n",
      "\n",
      "Epoch 57: val_Sales_mse did not improve from 0.00014\n",
      "3181/3181 - 49s - loss: 3.0579e-04 - Sales_loss: 1.2571e-04 - Customers_loss: 1.3806e-04 - Sales_mse: 1.2571e-04 - Sales_rmspe: 0.0138 - Customers_mse: 1.3806e-04 - Customers_rmspe: 0.0163 - val_loss: 4.1773e-04 - val_Sales_loss: 1.8676e-04 - val_Customers_loss: 1.8860e-04 - val_Sales_mse: 1.8676e-04 - val_Sales_rmspe: 0.0164 - val_Customers_mse: 1.8860e-04 - val_Customers_rmspe: 0.0185 - 49s/epoch - 15ms/step\n",
      "Epoch 58/100\n",
      "\n",
      "Epoch 58: val_Sales_mse did not improve from 0.00014\n",
      "3181/3181 - 50s - loss: 3.0163e-04 - Sales_loss: 1.2385e-04 - Customers_loss: 1.3578e-04 - Sales_mse: 1.2385e-04 - Sales_rmspe: 0.0137 - Customers_mse: 1.3578e-04 - Customers_rmspe: 0.0162 - val_loss: 4.2452e-04 - val_Sales_loss: 1.7389e-04 - val_Customers_loss: 2.0877e-04 - val_Sales_mse: 1.7389e-04 - val_Sales_rmspe: 0.0156 - val_Customers_mse: 2.0877e-04 - val_Customers_rmspe: 0.0190 - 50s/epoch - 16ms/step\n",
      "Epoch 59/100\n",
      "\n",
      "Epoch 59: val_Sales_mse did not improve from 0.00014\n",
      "3181/3181 - 49s - loss: 3.0282e-04 - Sales_loss: 1.2426e-04 - Customers_loss: 1.3661e-04 - Sales_mse: 1.2426e-04 - Sales_rmspe: 0.0137 - Customers_mse: 1.3661e-04 - Customers_rmspe: 0.0163 - val_loss: 4.1876e-04 - val_Sales_loss: 2.1092e-04 - val_Customers_loss: 1.6672e-04 - val_Sales_mse: 2.1092e-04 - val_Sales_rmspe: 0.0173 - val_Customers_mse: 1.6672e-04 - val_Customers_rmspe: 0.0174 - 49s/epoch - 16ms/step\n",
      "Epoch 60/100\n",
      "\n",
      "Epoch 60: val_Sales_mse did not improve from 0.00014\n",
      "3181/3181 - 51s - loss: 3.0352e-04 - Sales_loss: 1.2536e-04 - Customers_loss: 1.3615e-04 - Sales_mse: 1.2536e-04 - Sales_rmspe: 0.0138 - Customers_mse: 1.3615e-04 - Customers_rmspe: 0.0162 - val_loss: 3.7893e-04 - val_Sales_loss: 1.6749e-04 - val_Customers_loss: 1.7004e-04 - val_Sales_mse: 1.6749e-04 - val_Sales_rmspe: 0.0153 - val_Customers_mse: 1.7004e-04 - val_Customers_rmspe: 0.0173 - 51s/epoch - 16ms/step\n",
      "Epoch 61/100\n",
      "\n",
      "Epoch 61: val_Sales_mse did not improve from 0.00014\n",
      "3181/3181 - 50s - loss: 3.0196e-04 - Sales_loss: 1.2436e-04 - Customers_loss: 1.3571e-04 - Sales_mse: 1.2436e-04 - Sales_rmspe: 0.0137 - Customers_mse: 1.3571e-04 - Customers_rmspe: 0.0162 - val_loss: 4.3769e-04 - val_Sales_loss: 2.1089e-04 - val_Customers_loss: 1.8549e-04 - val_Sales_mse: 2.1089e-04 - val_Sales_rmspe: 0.0170 - val_Customers_mse: 1.8549e-04 - val_Customers_rmspe: 0.0182 - 50s/epoch - 16ms/step\n",
      "Epoch 62/100\n",
      "\n",
      "Epoch 62: val_Sales_mse did not improve from 0.00014\n",
      "3181/3181 - 49s - loss: 3.0217e-04 - Sales_loss: 1.2455e-04 - Customers_loss: 1.3558e-04 - Sales_mse: 1.2455e-04 - Sales_rmspe: 0.0137 - Customers_mse: 1.3558e-04 - Customers_rmspe: 0.0162 - val_loss: 3.5773e-04 - val_Sales_loss: 1.7559e-04 - val_Customers_loss: 1.4047e-04 - val_Sales_mse: 1.7559e-04 - val_Sales_rmspe: 0.0158 - val_Customers_mse: 1.4047e-04 - val_Customers_rmspe: 0.0161 - 49s/epoch - 15ms/step\n",
      "Epoch 63/100\n",
      "\n",
      "Epoch 63: val_Sales_mse did not improve from 0.00014\n",
      "3181/3181 - 48s - loss: 3.0278e-04 - Sales_loss: 1.2462e-04 - Customers_loss: 1.3639e-04 - Sales_mse: 1.2462e-04 - Sales_rmspe: 0.0137 - Customers_mse: 1.3639e-04 - Customers_rmspe: 0.0162 - val_loss: 4.4800e-04 - val_Sales_loss: 2.4349e-04 - val_Customers_loss: 1.6217e-04 - val_Sales_mse: 2.4349e-04 - val_Sales_rmspe: 0.0183 - val_Customers_mse: 1.6217e-04 - val_Customers_rmspe: 0.0172 - 48s/epoch - 15ms/step\n",
      "Epoch 64/100\n",
      "\n",
      "Epoch 64: val_Sales_mse did not improve from 0.00014\n",
      "3181/3181 - 50s - loss: 3.0112e-04 - Sales_loss: 1.2442e-04 - Customers_loss: 1.3484e-04 - Sales_mse: 1.2442e-04 - Sales_rmspe: 0.0137 - Customers_mse: 1.3484e-04 - Customers_rmspe: 0.0162 - val_loss: 4.2461e-04 - val_Sales_loss: 1.7324e-04 - val_Customers_loss: 2.0930e-04 - val_Sales_mse: 1.7324e-04 - val_Sales_rmspe: 0.0156 - val_Customers_mse: 2.0930e-04 - val_Customers_rmspe: 0.0190 - 50s/epoch - 16ms/step\n",
      "Epoch 65/100\n",
      "\n",
      "Epoch 65: val_Sales_mse did not improve from 0.00014\n",
      "3181/3181 - 49s - loss: 3.0067e-04 - Sales_loss: 1.2426e-04 - Customers_loss: 1.3453e-04 - Sales_mse: 1.2426e-04 - Sales_rmspe: 0.0137 - Customers_mse: 1.3453e-04 - Customers_rmspe: 0.0161 - val_loss: 4.7562e-04 - val_Sales_loss: 1.9836e-04 - val_Customers_loss: 2.3579e-04 - val_Sales_mse: 1.9836e-04 - val_Sales_rmspe: 0.0165 - val_Customers_mse: 2.3579e-04 - val_Customers_rmspe: 0.0201 - 49s/epoch - 16ms/step\n",
      "Epoch 66/100\n",
      "\n",
      "Epoch 66: val_Sales_mse did not improve from 0.00014\n",
      "3181/3181 - 48s - loss: 3.0251e-04 - Sales_loss: 1.2482e-04 - Customers_loss: 1.3594e-04 - Sales_mse: 1.2482e-04 - Sales_rmspe: 0.0137 - Customers_mse: 1.3594e-04 - Customers_rmspe: 0.0162 - val_loss: 4.1867e-04 - val_Sales_loss: 1.5698e-04 - val_Customers_loss: 2.2119e-04 - val_Sales_mse: 1.5698e-04 - val_Sales_rmspe: 0.0150 - val_Customers_mse: 2.2119e-04 - val_Customers_rmspe: 0.0198 - 48s/epoch - 15ms/step\n",
      "Epoch 67/100\n",
      "\n",
      "Epoch 67: val_Sales_mse did not improve from 0.00014\n",
      "3181/3181 - 49s - loss: 3.0222e-04 - Sales_loss: 1.2464e-04 - Customers_loss: 1.3583e-04 - Sales_mse: 1.2464e-04 - Sales_rmspe: 0.0137 - Customers_mse: 1.3583e-04 - Customers_rmspe: 0.0162 - val_loss: 4.6848e-04 - val_Sales_loss: 2.0616e-04 - val_Customers_loss: 2.2068e-04 - val_Sales_mse: 2.0616e-04 - val_Sales_rmspe: 0.0171 - val_Customers_mse: 2.2068e-04 - val_Customers_rmspe: 0.0200 - 49s/epoch - 16ms/step\n",
      "Epoch 68/100\n",
      "\n",
      "Epoch 68: val_Sales_mse did not improve from 0.00014\n",
      "3181/3181 - 49s - loss: 3.0000e-04 - Sales_loss: 1.2345e-04 - Customers_loss: 1.3484e-04 - Sales_mse: 1.2345e-04 - Sales_rmspe: 0.0137 - Customers_mse: 1.3484e-04 - Customers_rmspe: 0.0161 - val_loss: 4.1435e-04 - val_Sales_loss: 1.7454e-04 - val_Customers_loss: 1.9816e-04 - val_Sales_mse: 1.7454e-04 - val_Sales_rmspe: 0.0156 - val_Customers_mse: 1.9816e-04 - val_Customers_rmspe: 0.0187 - 49s/epoch - 15ms/step\n",
      "Epoch 69/100\n",
      "\n",
      "Epoch 69: val_Sales_mse did not improve from 0.00014\n",
      "3181/3181 - 48s - loss: 3.0006e-04 - Sales_loss: 1.2365e-04 - Customers_loss: 1.3490e-04 - Sales_mse: 1.2365e-04 - Sales_rmspe: 0.0137 - Customers_mse: 1.3490e-04 - Customers_rmspe: 0.0162 - val_loss: 3.3904e-04 - val_Sales_loss: 1.4278e-04 - val_Customers_loss: 1.5543e-04 - val_Sales_mse: 1.4278e-04 - val_Sales_rmspe: 0.0144 - val_Customers_mse: 1.5543e-04 - val_Customers_rmspe: 0.0168 - 48s/epoch - 15ms/step\n",
      "Epoch 70/100\n",
      "\n",
      "Epoch 70: val_Sales_mse did not improve from 0.00014\n",
      "3181/3181 - 48s - loss: 2.9941e-04 - Sales_loss: 1.2439e-04 - Customers_loss: 1.3353e-04 - Sales_mse: 1.2439e-04 - Sales_rmspe: 0.0137 - Customers_mse: 1.3353e-04 - Customers_rmspe: 0.0161 - val_loss: 3.7142e-04 - val_Sales_loss: 1.7700e-04 - val_Customers_loss: 1.5376e-04 - val_Sales_mse: 1.7700e-04 - val_Sales_rmspe: 0.0157 - val_Customers_mse: 1.5376e-04 - val_Customers_rmspe: 0.0167 - 48s/epoch - 15ms/step\n",
      "Epoch 71/100\n",
      "\n",
      "Epoch 71: val_Sales_mse did not improve from 0.00014\n",
      "3181/3181 - 48s - loss: 2.9917e-04 - Sales_loss: 1.2399e-04 - Customers_loss: 1.3383e-04 - Sales_mse: 1.2399e-04 - Sales_rmspe: 0.0137 - Customers_mse: 1.3383e-04 - Customers_rmspe: 0.0161 - val_loss: 7.7217e-04 - val_Sales_loss: 2.1765e-04 - val_Customers_loss: 5.1273e-04 - val_Sales_mse: 2.1765e-04 - val_Sales_rmspe: 0.0174 - val_Customers_mse: 5.1273e-04 - val_Customers_rmspe: 0.0304 - 48s/epoch - 15ms/step\n",
      "Epoch 72/100\n",
      "\n",
      "Epoch 72: val_Sales_mse did not improve from 0.00014\n",
      "3181/3181 - 47s - loss: 2.9921e-04 - Sales_loss: 1.2372e-04 - Customers_loss: 1.3398e-04 - Sales_mse: 1.2372e-04 - Sales_rmspe: 0.0137 - Customers_mse: 1.3398e-04 - Customers_rmspe: 0.0161 - val_loss: 3.8460e-04 - val_Sales_loss: 1.6035e-04 - val_Customers_loss: 1.8375e-04 - val_Sales_mse: 1.6035e-04 - val_Sales_rmspe: 0.0151 - val_Customers_mse: 1.8375e-04 - val_Customers_rmspe: 0.0181 - 47s/epoch - 15ms/step\n",
      "Epoch 73/100\n",
      "\n",
      "Epoch 73: val_Sales_mse did not improve from 0.00014\n",
      "3181/3181 - 48s - loss: 2.9779e-04 - Sales_loss: 1.2307e-04 - Customers_loss: 1.3325e-04 - Sales_mse: 1.2307e-04 - Sales_rmspe: 0.0137 - Customers_mse: 1.3325e-04 - Customers_rmspe: 0.0161 - val_loss: 3.5974e-04 - val_Sales_loss: 1.6423e-04 - val_Customers_loss: 1.5470e-04 - val_Sales_mse: 1.6423e-04 - val_Sales_rmspe: 0.0152 - val_Customers_mse: 1.5470e-04 - val_Customers_rmspe: 0.0167 - 48s/epoch - 15ms/step\n",
      "Epoch 74/100\n",
      "\n",
      "Epoch 74: val_Sales_mse did not improve from 0.00014\n",
      "3181/3181 - 49s - loss: 2.9934e-04 - Sales_loss: 1.2371e-04 - Customers_loss: 1.3418e-04 - Sales_mse: 1.2371e-04 - Sales_rmspe: 0.0137 - Customers_mse: 1.3418e-04 - Customers_rmspe: 0.0161 - val_loss: 4.3869e-04 - val_Sales_loss: 2.0723e-04 - val_Customers_loss: 1.8930e-04 - val_Sales_mse: 2.0723e-04 - val_Sales_rmspe: 0.0172 - val_Customers_mse: 1.8930e-04 - val_Customers_rmspe: 0.0184 - 49s/epoch - 16ms/step\n",
      "Epoch 75/100\n",
      "\n",
      "Epoch 75: val_Sales_mse did not improve from 0.00014\n",
      "3181/3181 - 48s - loss: 2.9846e-04 - Sales_loss: 1.2346e-04 - Customers_loss: 1.3382e-04 - Sales_mse: 1.2346e-04 - Sales_rmspe: 0.0137 - Customers_mse: 1.3382e-04 - Customers_rmspe: 0.0161 - val_loss: 4.3993e-04 - val_Sales_loss: 1.7369e-04 - val_Customers_loss: 2.2444e-04 - val_Sales_mse: 1.7369e-04 - val_Sales_rmspe: 0.0157 - val_Customers_mse: 2.2444e-04 - val_Customers_rmspe: 0.0201 - 48s/epoch - 15ms/step\n",
      "Epoch 76/100\n",
      "\n",
      "Epoch 76: val_Sales_mse did not improve from 0.00014\n",
      "3181/3181 - 48s - loss: 2.9845e-04 - Sales_loss: 1.2311e-04 - Customers_loss: 1.3407e-04 - Sales_mse: 1.2311e-04 - Sales_rmspe: 0.0137 - Customers_mse: 1.3407e-04 - Customers_rmspe: 0.0161 - val_loss: 3.7531e-04 - val_Sales_loss: 1.6069e-04 - val_Customers_loss: 1.7223e-04 - val_Sales_mse: 1.6069e-04 - val_Sales_rmspe: 0.0151 - val_Customers_mse: 1.7223e-04 - val_Customers_rmspe: 0.0176 - 48s/epoch - 15ms/step\n",
      "Epoch 77/100\n",
      "\n",
      "Epoch 77: val_Sales_mse improved from 0.00014 to 0.00014, saving model to bestmodel.hdf5\n",
      "3181/3181 - 46s - loss: 2.9845e-04 - Sales_loss: 1.2340e-04 - Customers_loss: 1.3356e-04 - Sales_mse: 1.2340e-04 - Sales_rmspe: 0.0137 - Customers_mse: 1.3356e-04 - Customers_rmspe: 0.0161 - val_loss: 3.2650e-04 - val_Sales_loss: 1.3852e-04 - val_Customers_loss: 1.4722e-04 - val_Sales_mse: 1.3852e-04 - val_Sales_rmspe: 0.0141 - val_Customers_mse: 1.4722e-04 - val_Customers_rmspe: 0.0164 - 46s/epoch - 14ms/step\n",
      "Epoch 78/100\n",
      "\n",
      "Epoch 78: val_Sales_mse did not improve from 0.00014\n",
      "3181/3181 - 46s - loss: 2.9843e-04 - Sales_loss: 1.2319e-04 - Customers_loss: 1.3409e-04 - Sales_mse: 1.2319e-04 - Sales_rmspe: 0.0137 - Customers_mse: 1.3409e-04 - Customers_rmspe: 0.0161 - val_loss: 4.6043e-04 - val_Sales_loss: 1.9692e-04 - val_Customers_loss: 2.2297e-04 - val_Sales_mse: 1.9692e-04 - val_Sales_rmspe: 0.0166 - val_Customers_mse: 2.2297e-04 - val_Customers_rmspe: 0.0198 - 46s/epoch - 15ms/step\n",
      "Epoch 79/100\n",
      "\n",
      "Epoch 79: val_Sales_mse did not improve from 0.00014\n",
      "3181/3181 - 50s - loss: 2.9728e-04 - Sales_loss: 1.2240e-04 - Customers_loss: 1.3366e-04 - Sales_mse: 1.2240e-04 - Sales_rmspe: 0.0136 - Customers_mse: 1.3366e-04 - Customers_rmspe: 0.0161 - val_loss: 8.3439e-04 - val_Sales_loss: 4.3561e-04 - val_Customers_loss: 3.5711e-04 - val_Sales_mse: 4.3561e-04 - val_Sales_rmspe: 0.0250 - val_Customers_mse: 3.5711e-04 - val_Customers_rmspe: 0.0252 - 50s/epoch - 16ms/step\n",
      "Epoch 80/100\n",
      "\n",
      "Epoch 80: val_Sales_mse did not improve from 0.00014\n",
      "3181/3181 - 48s - loss: 2.9959e-04 - Sales_loss: 1.2376e-04 - Customers_loss: 1.3456e-04 - Sales_mse: 1.2376e-04 - Sales_rmspe: 0.0137 - Customers_mse: 1.3456e-04 - Customers_rmspe: 0.0161 - val_loss: 4.0891e-04 - val_Sales_loss: 1.8944e-04 - val_Customers_loss: 1.7854e-04 - val_Sales_mse: 1.8944e-04 - val_Sales_rmspe: 0.0164 - val_Customers_mse: 1.7854e-04 - val_Customers_rmspe: 0.0180 - 48s/epoch - 15ms/step\n",
      "Epoch 81/100\n",
      "\n",
      "Epoch 81: val_Sales_mse did not improve from 0.00014\n",
      "3181/3181 - 46s - loss: 2.9835e-04 - Sales_loss: 1.2305e-04 - Customers_loss: 1.3422e-04 - Sales_mse: 1.2305e-04 - Sales_rmspe: 0.0136 - Customers_mse: 1.3422e-04 - Customers_rmspe: 0.0161 - val_loss: 3.8034e-04 - val_Sales_loss: 1.5767e-04 - val_Customers_loss: 1.8238e-04 - val_Sales_mse: 1.5767e-04 - val_Sales_rmspe: 0.0149 - val_Customers_mse: 1.8238e-04 - val_Customers_rmspe: 0.0180 - 46s/epoch - 15ms/step\n",
      "Epoch 82/100\n",
      "\n",
      "Epoch 82: val_Sales_mse did not improve from 0.00014\n",
      "3181/3181 - 47s - loss: 2.9741e-04 - Sales_loss: 1.2283e-04 - Customers_loss: 1.3350e-04 - Sales_mse: 1.2283e-04 - Sales_rmspe: 0.0136 - Customers_mse: 1.3350e-04 - Customers_rmspe: 0.0161 - val_loss: 3.4400e-04 - val_Sales_loss: 1.4674e-04 - val_Customers_loss: 1.5674e-04 - val_Sales_mse: 1.4674e-04 - val_Sales_rmspe: 0.0145 - val_Customers_mse: 1.5674e-04 - val_Customers_rmspe: 0.0168 - 47s/epoch - 15ms/step\n",
      "Epoch 83/100\n",
      "\n",
      "Epoch 83: val_Sales_mse did not improve from 0.00014\n",
      "3181/3181 - 47s - loss: 2.9614e-04 - Sales_loss: 1.2257e-04 - Customers_loss: 1.3248e-04 - Sales_mse: 1.2257e-04 - Sales_rmspe: 0.0136 - Customers_mse: 1.3248e-04 - Customers_rmspe: 0.0160 - val_loss: 5.5466e-04 - val_Sales_loss: 2.6164e-04 - val_Customers_loss: 2.5184e-04 - val_Sales_mse: 2.6164e-04 - val_Sales_rmspe: 0.0192 - val_Customers_mse: 2.5184e-04 - val_Customers_rmspe: 0.0209 - 47s/epoch - 15ms/step\n",
      "Epoch 84/100\n",
      "\n",
      "Epoch 84: val_Sales_mse did not improve from 0.00014\n",
      "3181/3181 - 47s - loss: 2.9935e-04 - Sales_loss: 1.2340e-04 - Customers_loss: 1.3479e-04 - Sales_mse: 1.2340e-04 - Sales_rmspe: 0.0137 - Customers_mse: 1.3479e-04 - Customers_rmspe: 0.0161 - val_loss: 5.2052e-04 - val_Sales_loss: 1.7558e-04 - val_Customers_loss: 3.0346e-04 - val_Sales_mse: 1.7558e-04 - val_Sales_rmspe: 0.0157 - val_Customers_mse: 3.0346e-04 - val_Customers_rmspe: 0.0230 - 47s/epoch - 15ms/step\n",
      "Epoch 85/100\n",
      "\n",
      "Epoch 85: val_Sales_mse did not improve from 0.00014\n",
      "3181/3181 - 49s - loss: 2.9722e-04 - Sales_loss: 1.2286e-04 - Customers_loss: 1.3348e-04 - Sales_mse: 1.2286e-04 - Sales_rmspe: 0.0136 - Customers_mse: 1.3348e-04 - Customers_rmspe: 0.0161 - val_loss: 4.4800e-04 - val_Sales_loss: 1.7004e-04 - val_Customers_loss: 2.3610e-04 - val_Sales_mse: 1.7004e-04 - val_Sales_rmspe: 0.0156 - val_Customers_mse: 2.3610e-04 - val_Customers_rmspe: 0.0206 - 49s/epoch - 15ms/step\n",
      "Epoch 86/100\n",
      "\n",
      "Epoch 86: val_Sales_mse did not improve from 0.00014\n",
      "3181/3181 - 46s - loss: 2.9627e-04 - Sales_loss: 1.2261e-04 - Customers_loss: 1.3282e-04 - Sales_mse: 1.2261e-04 - Sales_rmspe: 0.0136 - Customers_mse: 1.3282e-04 - Customers_rmspe: 0.0160 - val_loss: 4.5252e-04 - val_Sales_loss: 1.9515e-04 - val_Customers_loss: 2.1640e-04 - val_Sales_mse: 1.9515e-04 - val_Sales_rmspe: 0.0164 - val_Customers_mse: 2.1640e-04 - val_Customers_rmspe: 0.0196 - 46s/epoch - 15ms/step\n",
      "Epoch 87/100\n",
      "\n",
      "Epoch 87: val_Sales_mse did not improve from 0.00014\n",
      "3181/3181 - 47s - loss: 2.9565e-04 - Sales_loss: 1.2226e-04 - Customers_loss: 1.3256e-04 - Sales_mse: 1.2226e-04 - Sales_rmspe: 0.0136 - Customers_mse: 1.3256e-04 - Customers_rmspe: 0.0160 - val_loss: 4.4314e-04 - val_Sales_loss: 2.1608e-04 - val_Customers_loss: 1.8625e-04 - val_Sales_mse: 2.1608e-04 - val_Sales_rmspe: 0.0171 - val_Customers_mse: 1.8625e-04 - val_Customers_rmspe: 0.0183 - 47s/epoch - 15ms/step\n",
      "Epoch 88/100\n",
      "\n",
      "Epoch 88: val_Sales_mse did not improve from 0.00014\n",
      "3181/3181 - 48s - loss: 2.9639e-04 - Sales_loss: 1.2280e-04 - Customers_loss: 1.3281e-04 - Sales_mse: 1.2280e-04 - Sales_rmspe: 0.0136 - Customers_mse: 1.3281e-04 - Customers_rmspe: 0.0160 - val_loss: 3.4535e-04 - val_Sales_loss: 1.5249e-04 - val_Customers_loss: 1.5117e-04 - val_Sales_mse: 1.5249e-04 - val_Sales_rmspe: 0.0148 - val_Customers_mse: 1.5117e-04 - val_Customers_rmspe: 0.0166 - 48s/epoch - 15ms/step\n",
      "Epoch 89/100\n",
      "\n",
      "Epoch 89: val_Sales_mse did not improve from 0.00014\n",
      "3181/3181 - 46s - loss: 2.9513e-04 - Sales_loss: 1.2229e-04 - Customers_loss: 1.3180e-04 - Sales_mse: 1.2229e-04 - Sales_rmspe: 0.0136 - Customers_mse: 1.3180e-04 - Customers_rmspe: 0.0160 - val_loss: 5.0716e-04 - val_Sales_loss: 2.2974e-04 - val_Customers_loss: 2.3710e-04 - val_Sales_mse: 2.2974e-04 - val_Sales_rmspe: 0.0178 - val_Customers_mse: 2.3710e-04 - val_Customers_rmspe: 0.0204 - 46s/epoch - 14ms/step\n",
      "Epoch 90/100\n",
      "\n",
      "Epoch 90: val_Sales_mse did not improve from 0.00014\n",
      "3181/3181 - 48s - loss: 2.9524e-04 - Sales_loss: 1.2210e-04 - Customers_loss: 1.3258e-04 - Sales_mse: 1.2210e-04 - Sales_rmspe: 0.0136 - Customers_mse: 1.3258e-04 - Customers_rmspe: 0.0160 - val_loss: 0.0011 - val_Sales_loss: 5.3155e-04 - val_Customers_loss: 4.9738e-04 - val_Sales_mse: 5.3155e-04 - val_Sales_rmspe: 0.0272 - val_Customers_mse: 4.9738e-04 - val_Customers_rmspe: 0.0296 - 48s/epoch - 15ms/step\n",
      "Epoch 91/100\n",
      "\n",
      "Epoch 91: val_Sales_mse did not improve from 0.00014\n",
      "3181/3181 - 45s - loss: 2.9456e-04 - Sales_loss: 1.2157e-04 - Customers_loss: 1.3222e-04 - Sales_mse: 1.2157e-04 - Sales_rmspe: 0.0136 - Customers_mse: 1.3222e-04 - Customers_rmspe: 0.0160 - val_loss: 3.7077e-04 - val_Sales_loss: 1.6126e-04 - val_Customers_loss: 1.6915e-04 - val_Sales_mse: 1.6126e-04 - val_Sales_rmspe: 0.0151 - val_Customers_mse: 1.6915e-04 - val_Customers_rmspe: 0.0174 - 45s/epoch - 14ms/step\n",
      "Epoch 92/100\n",
      "\n",
      "Epoch 92: val_Sales_mse did not improve from 0.00014\n",
      "3181/3181 - 47s - loss: 2.9457e-04 - Sales_loss: 1.2247e-04 - Customers_loss: 1.3148e-04 - Sales_mse: 1.2247e-04 - Sales_rmspe: 0.0136 - Customers_mse: 1.3148e-04 - Customers_rmspe: 0.0160 - val_loss: 5.8260e-04 - val_Sales_loss: 1.5511e-04 - val_Customers_loss: 3.8751e-04 - val_Sales_mse: 1.5511e-04 - val_Sales_rmspe: 0.0149 - val_Customers_mse: 3.8751e-04 - val_Customers_rmspe: 0.0259 - 47s/epoch - 15ms/step\n",
      "Epoch 93/100\n",
      "\n",
      "Epoch 93: val_Sales_mse did not improve from 0.00014\n",
      "3181/3181 - 45s - loss: 2.9551e-04 - Sales_loss: 1.2202e-04 - Customers_loss: 1.3298e-04 - Sales_mse: 1.2202e-04 - Sales_rmspe: 0.0136 - Customers_mse: 1.3298e-04 - Customers_rmspe: 0.0160 - val_loss: 4.7993e-04 - val_Sales_loss: 2.4412e-04 - val_Customers_loss: 1.9463e-04 - val_Sales_mse: 2.4412e-04 - val_Sales_rmspe: 0.0183 - val_Customers_mse: 1.9463e-04 - val_Customers_rmspe: 0.0186 - 45s/epoch - 14ms/step\n",
      "Epoch 94/100\n",
      "\n",
      "Epoch 94: val_Sales_mse did not improve from 0.00014\n",
      "3181/3181 - 47s - loss: 2.9327e-04 - Sales_loss: 1.2174e-04 - Customers_loss: 1.3101e-04 - Sales_mse: 1.2174e-04 - Sales_rmspe: 0.0136 - Customers_mse: 1.3101e-04 - Customers_rmspe: 0.0159 - val_loss: 3.7935e-04 - val_Sales_loss: 1.5574e-04 - val_Customers_loss: 1.8377e-04 - val_Sales_mse: 1.5574e-04 - val_Sales_rmspe: 0.0150 - val_Customers_mse: 1.8377e-04 - val_Customers_rmspe: 0.0182 - 47s/epoch - 15ms/step\n",
      "Epoch 95/100\n",
      "\n",
      "Epoch 95: val_Sales_mse did not improve from 0.00014\n",
      "3181/3181 - 48s - loss: 2.9568e-04 - Sales_loss: 1.2236e-04 - Customers_loss: 1.3284e-04 - Sales_mse: 1.2236e-04 - Sales_rmspe: 0.0136 - Customers_mse: 1.3284e-04 - Customers_rmspe: 0.0160 - val_loss: 5.0217e-04 - val_Sales_loss: 2.8766e-04 - val_Customers_loss: 1.7354e-04 - val_Sales_mse: 2.8766e-04 - val_Sales_rmspe: 0.0200 - val_Customers_mse: 1.7354e-04 - val_Customers_rmspe: 0.0179 - 48s/epoch - 15ms/step\n",
      "Epoch 96/100\n",
      "\n",
      "Epoch 96: val_Sales_mse did not improve from 0.00014\n",
      "3181/3181 - 47s - loss: 2.9464e-04 - Sales_loss: 1.2208e-04 - Customers_loss: 1.3207e-04 - Sales_mse: 1.2208e-04 - Sales_rmspe: 0.0136 - Customers_mse: 1.3207e-04 - Customers_rmspe: 0.0160 - val_loss: 8.1998e-04 - val_Sales_loss: 4.3227e-04 - val_Customers_loss: 3.4721e-04 - val_Sales_mse: 4.3227e-04 - val_Sales_rmspe: 0.0246 - val_Customers_mse: 3.4721e-04 - val_Customers_rmspe: 0.0248 - 47s/epoch - 15ms/step\n",
      "Epoch 97/100\n",
      "\n",
      "Epoch 97: val_Sales_mse did not improve from 0.00014\n",
      "3181/3181 - 47s - loss: 2.9438e-04 - Sales_loss: 1.2195e-04 - Customers_loss: 1.3204e-04 - Sales_mse: 1.2195e-04 - Sales_rmspe: 0.0136 - Customers_mse: 1.3204e-04 - Customers_rmspe: 0.0160 - val_loss: 6.0175e-04 - val_Sales_loss: 3.1788e-04 - val_Customers_loss: 2.4362e-04 - val_Sales_mse: 3.1788e-04 - val_Sales_rmspe: 0.0212 - val_Customers_mse: 2.4362e-04 - val_Customers_rmspe: 0.0207 - 47s/epoch - 15ms/step\n",
      "Epoch 98/100\n",
      "\n",
      "Epoch 98: val_Sales_mse did not improve from 0.00014\n",
      "3181/3181 - 47s - loss: 2.9486e-04 - Sales_loss: 1.2219e-04 - Customers_loss: 1.3227e-04 - Sales_mse: 1.2219e-04 - Sales_rmspe: 0.0136 - Customers_mse: 1.3227e-04 - Customers_rmspe: 0.0160 - val_loss: 5.1447e-04 - val_Sales_loss: 2.9108e-04 - val_Customers_loss: 1.8248e-04 - val_Sales_mse: 2.9108e-04 - val_Sales_rmspe: 0.0201 - val_Customers_mse: 1.8248e-04 - val_Customers_rmspe: 0.0180 - 47s/epoch - 15ms/step\n",
      "Epoch 99/100\n",
      "\n",
      "Epoch 99: val_Sales_mse did not improve from 0.00014\n",
      "3181/3181 - 45s - loss: 2.9392e-04 - Sales_loss: 1.2213e-04 - Customers_loss: 1.3156e-04 - Sales_mse: 1.2213e-04 - Sales_rmspe: 0.0136 - Customers_mse: 1.3156e-04 - Customers_rmspe: 0.0160 - val_loss: 3.7277e-04 - val_Sales_loss: 1.7159e-04 - val_Customers_loss: 1.6139e-04 - val_Sales_mse: 1.7159e-04 - val_Sales_rmspe: 0.0157 - val_Customers_mse: 1.6139e-04 - val_Customers_rmspe: 0.0171 - 45s/epoch - 14ms/step\n",
      "Epoch 100/100\n",
      "\n",
      "Epoch 100: val_Sales_mse did not improve from 0.00014\n",
      "3181/3181 - 45s - loss: 2.9240e-04 - Sales_loss: 1.2156e-04 - Customers_loss: 1.3071e-04 - Sales_mse: 1.2156e-04 - Sales_rmspe: 0.0136 - Customers_mse: 1.3071e-04 - Customers_rmspe: 0.0159 - val_loss: 6.4900e-04 - val_Sales_loss: 2.8013e-04 - val_Customers_loss: 3.2834e-04 - val_Sales_mse: 2.8013e-04 - val_Sales_rmspe: 0.0195 - val_Customers_mse: 3.2834e-04 - val_Customers_rmspe: 0.0237 - 45s/epoch - 14ms/step\n",
      "CPU times: total: 11h 47min 23s\n",
      "Wall time: 1h 16min 46s\n"
     ]
    }
   ],
   "source": [
    "%%time\n",
    "epochs = 100\n",
    "batch_size = 256\n",
    "history = model.fit(X_train, y_train, validation_data=(X_val, y_val),  epochs=epochs, batch_size=batch_size, callbacks=[checkpoint], verbose=2)"
   ]
  },
  {
   "cell_type": "code",
   "execution_count": 35,
   "metadata": {
    "pycharm": {
     "name": "#%%\n"
    }
   },
   "outputs": [
    {
     "data": {
      "text/plain": "<Figure size 432x288 with 1 Axes>",
      "image/png": "[encoded data removed]"
     },
     "metadata": {
      "needs_background": "light"
     },
     "output_type": "display_data"
    },
    {
     "data": {
      "text/plain": "[<matplotlib.lines.Line2D at 0x13d24ed0880>]"
     },
     "execution_count": 35,
     "metadata": {},
     "output_type": "execute_result"
    },
    {
     "data": {
      "text/plain": "<Figure size 432x288 with 1 Axes>",
      "image/png": "[encoded data removed]"
     },
     "metadata": {
      "needs_background": "light"
     },
     "output_type": "display_data"
    }
   ],
   "source": [
    "plt.plot(history.history['val_loss'])\n",
    "# plt.plot(history.history['val_Customers_mse'])\n",
    "# plt.plot(history.history['val_Sales_mse'])\n",
    "plt.show()\n",
    "plt.plot(history.history['loss'])\n",
    "# plt.plot(history.history['Customers_mse'])\n",
    "# plt.plot(history.history['Sales_mse'])"
   ]
  },
  {
   "cell_type": "markdown",
   "metadata": {
    "pycharm": {
     "name": "#%% md\n"
    }
   },
   "source": [
    "# Métrica"
   ]
  },
  {
   "cell_type": "markdown",
   "metadata": {
    "pycharm": {
     "name": "#%% md\n"
    }
   },
   "source": [
    "$$\n",
    "\\textrm{RMSE} = \\sqrt{\\frac{1}{n} \\sum_{i=1}^{n} \\left(\\frac{\\hat{y}_i - y_i}{y_i}\\right)^2}\n",
    "$$"
   ]
  },
  {
   "cell_type": "code",
   "execution_count": 36,
   "metadata": {
    "pycharm": {
     "name": "#%%\n"
    }
   },
   "outputs": [
    {
     "name": "stdout",
     "output_type": "stream",
     "text": [
      "944/944 [==============================] - 4s 4ms/step - loss: 6.4900e-04 - Sales_loss: 2.8013e-04 - Customers_loss: 3.2834e-04 - Sales_mse: 2.8013e-04 - Sales_rmspe: 0.0193 - Customers_mse: 3.2834e-04 - Customers_rmspe: 0.0235\n"
     ]
    },
    {
     "data": {
      "text/plain": "[0.0006490004598163068,\n 0.00028012730763293803,\n 0.00032834053854458034,\n 0.00028012730763293803,\n 0.019345777109265327,\n 0.00032834053854458034,\n 0.02346777729690075]"
     },
     "execution_count": 36,
     "metadata": {},
     "output_type": "execute_result"
    }
   ],
   "source": [
    "model.evaluate(X_val, y_val)"
   ]
  },
  {
   "cell_type": "code",
   "execution_count": 37,
   "metadata": {
    "pycharm": {
     "name": "#%%\n"
    }
   },
   "outputs": [
    {
     "name": "stdout",
     "output_type": "stream",
     "text": [
      "944/944 [==============================] - 3s 3ms/step - loss: 3.2650e-04 - Sales_loss: 1.3852e-04 - Customers_loss: 1.4722e-04 - Sales_mse: 1.3852e-04 - Sales_rmspe: 0.0139 - Customers_mse: 1.4722e-04 - Customers_rmspe: 0.0162\n"
     ]
    },
    {
     "data": {
      "text/plain": "[0.0003264981205575168,\n 0.00013851640687789768,\n 0.000147222017403692,\n 0.00013851640687789768,\n 0.013916312716901302,\n 0.000147222017403692,\n 0.01616635173559189]"
     },
     "execution_count": 37,
     "metadata": {},
     "output_type": "execute_result"
    }
   ],
   "source": [
    "model.load_weights('bestmodel.hdf5')\n",
    "model.evaluate(X_val, y_val)"
   ]
  },
  {
   "cell_type": "markdown",
   "source": [
    "A superar\n",
    "\n",
    "loss: 0.0017 - Sales_loss: 0.0013 - Customers_loss: 3.0471e-04 - Sales_mse: 0.0013 - Sales_rmspe: 0.2060 - Customers_mse: 3.0471e-04 - Customers_rmspe: 0.1715\n",
    "\n",
    "[0.0016888834070414305,\n",
    " 0.001275751506909728,\n",
    " 0.00030471361242234707,\n",
    " 0.001275751506909728,\n",
    " 0.20596320927143097,\n",
    " 0.00030471361242234707,\n",
    " 0.17151840031147003]\n",
    "\n",
    "\n",
    "Epoch 20: val_Sales_mse did not improve from 0.00128\n",
    "3181/3181 - 28s - loss: 0.0022 - Sales_loss: 0.0017 - Customers_loss: 3.5647e-04 - Sales_mse: 0.0017 - Sales_rmspe: 0.2827 - Customers_mse: 3.5647e-04 - Customers_rmspe: 0.2046 - val_loss: 0.0017 - val_Sales_loss: 0.0013 - val_Customers_loss: 3.1156e-04 - val_Sales_mse: 0.0013 - val_Sales_rmspe: 0.2137 - val_Customers_mse: 3.1156e-04 - val_Customers_rmspe: 0.1805 - 28s/epoch - 9ms/step"
   ],
   "metadata": {
    "collapsed": false,
    "pycharm": {
     "name": "#%% md\n"
    }
   }
  },
  {
   "cell_type": "code",
   "execution_count": 38,
   "metadata": {
    "pycharm": {
     "name": "#%%\n"
    }
   },
   "outputs": [],
   "source": [
    "# model.load_weights('bestmodel.hdf5')\n",
    "# model.evaluate(X_val, y_val)\n",
    "# 30188/30188 [==============================] - 5s 172us/step\n",
    "# [0.12197033089921382,\n",
    "#  0.07211007360268763,\n",
    "#  0.037183713050426136,\n",
    "#  0.07211007360268763,\n",
    "#  0.037183713050426136]\n",
    "\n",
    "# [0.12932546436786652,\n",
    "#  0.07751645147800446,\n",
    "#  0.039259567856788635,\n",
    "#  0.07751645147800446,\n",
    "#  0.039259567856788635]"
   ]
  },
  {
   "cell_type": "code",
   "execution_count": 39,
   "metadata": {
    "pycharm": {
     "name": "#%%\n"
    }
   },
   "outputs": [
    {
     "name": "stdout",
     "output_type": "stream",
     "text": [
      "944/944 [==============================] - 2s 2ms/step\n",
      "1284/1284 [==============================] - 4s 3ms/step\n"
     ]
    }
   ],
   "source": [
    "if log_output:\n",
    "    if add_customers:\n",
    "        y_pred = np.exp(model.predict(X_val, verbose=1)[0][:, 0]*max_log_y[0])\n",
    "        y_pred_test = np.exp(model.predict(X_test, verbose=1)[0][:, 0]*max_log_y[0])\n",
    "    else:\n",
    "        y_pred = np.exp(model.predict(X_val, verbose=1)*max_log_y)[:,0]\n",
    "        y_pred_test = np.exp(model.predict(X_test, verbose=1)*max_log_y)[:,0]\n",
    "else:\n",
    "    if add_customers:\n",
    "        y_pred = (model.predict(X_val, verbose=1)[0]*y_std[0] + y_mean[0])[:,0]\n",
    "        y_pred_test = (model.predict(X_test, verbose=1)[0]*y_std[0] + y_mean[0])[:,0]\n",
    "    else:\n",
    "#         y_pred = model.predict(X_val, verbose=1)[:,0]*y_std + y_mean\n",
    "#         y_pred_test = model.predict(X_test, verbose=1)[:,0]*y_std + y_mean\n",
    "        y_pred = model.predict(X_val, verbose=1)[:,0]*y_max\n",
    "        y_pred_test = model.predict(X_test, verbose=1)[:,0]*y_max\n",
    "y_pred_test[df_test['Open'] == 0] = 0"
   ]
  },
  {
   "cell_type": "code",
   "execution_count": 40,
   "metadata": {
    "pycharm": {
     "name": "#%%\n"
    }
   },
   "outputs": [
    {
     "data": {
      "text/plain": "0.12933086544859018"
     },
     "execution_count": 40,
     "metadata": {},
     "output_type": "execute_result"
    }
   ],
   "source": [
    "np.sqrt((((df_val['Sales'].values - y_pred)/df_val['Sales'].values)**2).sum()/len(y_pred))"
   ]
  },
  {
   "cell_type": "code",
   "execution_count": 41,
   "metadata": {
    "pycharm": {
     "name": "#%%\n"
    }
   },
   "outputs": [
    {
     "data": {
      "text/plain": "array([4649.9487, 6802.5073, 8706.615 , 6795.141 , 6834.259 , 5617.41  ,\n       7231.611 , 7571.93  , 4490.9634, 5971.9395], dtype=float32)"
     },
     "execution_count": 41,
     "metadata": {},
     "output_type": "execute_result"
    }
   ],
   "source": [
    "y_pred_test[:10]"
   ]
  },
  {
   "cell_type": "markdown",
   "metadata": {
    "pycharm": {
     "name": "#%% md\n"
    }
   },
   "source": [
    "# Baseline"
   ]
  },
  {
   "cell_type": "code",
   "execution_count": 42,
   "metadata": {
    "pycharm": {
     "name": "#%%\n"
    }
   },
   "outputs": [],
   "source": [
    "import pandas as pd\n",
    "sample_csv = pd.read_csv('dataset/rossmann/sample_submission.csv')"
   ]
  },
  {
   "cell_type": "code",
   "execution_count": 43,
   "metadata": {
    "pycharm": {
     "name": "#%%\n"
    }
   },
   "outputs": [],
   "source": [
    "stores_mean = {}\n",
    "for store, g_df in df.groupby('Store'):\n",
    "    stores_mean[store] = g_df[g_df['Sales'] > 0]['Sales'].mean()"
   ]
  },
  {
   "cell_type": "code",
   "execution_count": 44,
   "metadata": {
    "pycharm": {
     "name": "#%%\n"
    }
   },
   "outputs": [],
   "source": [
    "df_test['Sales'] = df_test['Store'].apply(stores_mean.get)\n",
    "df_test.loc[df_test['Open'] == 0, 'Sales'] = 0"
   ]
  },
  {
   "cell_type": "code",
   "execution_count": 45,
   "metadata": {
    "pycharm": {
     "name": "#%%\n"
    }
   },
   "outputs": [
    {
     "data": {
      "text/plain": "   Store        Sales\n0      0  4759.096031\n1      2  6942.568678\n2      6  8817.050891\n3      7  5539.358418\n4      8  6562.337612\n5      9  5568.420918\n6     10  8030.977041\n7     11  7589.598214\n8     12  5034.747182\n9     13  5508.567394",
      "text/html": "<div>\n<style scoped>\n    .dataframe tbody tr th:only-of-type {\n        vertical-align: middle;\n    }\n\n    .dataframe tbody tr th {\n        vertical-align: top;\n    }\n\n    .dataframe thead th {\n        text-align: right;\n    }\n</style>\n<table border=\"1\" class=\"dataframe\">\n  <thead>\n    <tr style=\"text-align: right;\">\n      <th></th>\n      <th>Store</th>\n      <th>Sales</th>\n    </tr>\n  </thead>\n  <tbody>\n    <tr>\n      <th>0</th>\n      <td>0</td>\n      <td>4759.096031</td>\n    </tr>\n    <tr>\n      <th>1</th>\n      <td>2</td>\n      <td>6942.568678</td>\n    </tr>\n    <tr>\n      <th>2</th>\n      <td>6</td>\n      <td>8817.050891</td>\n    </tr>\n    <tr>\n      <th>3</th>\n      <td>7</td>\n      <td>5539.358418</td>\n    </tr>\n    <tr>\n      <th>4</th>\n      <td>8</td>\n      <td>6562.337612</td>\n    </tr>\n    <tr>\n      <th>5</th>\n      <td>9</td>\n      <td>5568.420918</td>\n    </tr>\n    <tr>\n      <th>6</th>\n      <td>10</td>\n      <td>8030.977041</td>\n    </tr>\n    <tr>\n      <th>7</th>\n      <td>11</td>\n      <td>7589.598214</td>\n    </tr>\n    <tr>\n      <th>8</th>\n      <td>12</td>\n      <td>5034.747182</td>\n    </tr>\n    <tr>\n      <th>9</th>\n      <td>13</td>\n      <td>5508.567394</td>\n    </tr>\n  </tbody>\n</table>\n</div>"
     },
     "execution_count": 45,
     "metadata": {},
     "output_type": "execute_result"
    }
   ],
   "source": [
    "df_test[['Store', 'Sales']].head(10)"
   ]
  },
  {
   "cell_type": "code",
   "execution_count": 46,
   "metadata": {
    "pycharm": {
     "name": "#%%\n"
    }
   },
   "outputs": [
    {
     "data": {
      "text/plain": "      Store  Sales\n543     702    0.0\n676     878    0.0\n840    1096    0.0\n1399    702    0.0\n1532    878    0.0",
      "text/html": "<div>\n<style scoped>\n    .dataframe tbody tr th:only-of-type {\n        vertical-align: middle;\n    }\n\n    .dataframe tbody tr th {\n        vertical-align: top;\n    }\n\n    .dataframe thead th {\n        text-align: right;\n    }\n</style>\n<table border=\"1\" class=\"dataframe\">\n  <thead>\n    <tr style=\"text-align: right;\">\n      <th></th>\n      <th>Store</th>\n      <th>Sales</th>\n    </tr>\n  </thead>\n  <tbody>\n    <tr>\n      <th>543</th>\n      <td>702</td>\n      <td>0.0</td>\n    </tr>\n    <tr>\n      <th>676</th>\n      <td>878</td>\n      <td>0.0</td>\n    </tr>\n    <tr>\n      <th>840</th>\n      <td>1096</td>\n      <td>0.0</td>\n    </tr>\n    <tr>\n      <th>1399</th>\n      <td>702</td>\n      <td>0.0</td>\n    </tr>\n    <tr>\n      <th>1532</th>\n      <td>878</td>\n      <td>0.0</td>\n    </tr>\n  </tbody>\n</table>\n</div>"
     },
     "execution_count": 46,
     "metadata": {},
     "output_type": "execute_result"
    }
   ],
   "source": [
    "df_test[df_test['Open'] == 0][['Store', 'Sales']].head()"
   ]
  },
  {
   "cell_type": "code",
   "execution_count": 47,
   "metadata": {
    "pycharm": {
     "name": "#%%\n"
    }
   },
   "outputs": [],
   "source": [
    "sample_csv['Sales'] = df_test['Sales']"
   ]
  },
  {
   "cell_type": "code",
   "execution_count": 48,
   "metadata": {
    "pycharm": {
     "name": "#%%\n"
    }
   },
   "outputs": [],
   "source": [
    "sample_csv.to_csv(f'submision_baseline.csv', index=False)"
   ]
  },
  {
   "cell_type": "code",
   "execution_count": 49,
   "metadata": {
    "pycharm": {
     "name": "#%%\n"
    }
   },
   "outputs": [
    {
     "data": {
      "text/plain": "   Id        Sales\n0   1  4759.096031\n1   2  6942.568678\n2   3  8817.050891\n3   4  5539.358418\n4   5  6562.337612",
      "text/html": "<div>\n<style scoped>\n    .dataframe tbody tr th:only-of-type {\n        vertical-align: middle;\n    }\n\n    .dataframe tbody tr th {\n        vertical-align: top;\n    }\n\n    .dataframe thead th {\n        text-align: right;\n    }\n</style>\n<table border=\"1\" class=\"dataframe\">\n  <thead>\n    <tr style=\"text-align: right;\">\n      <th></th>\n      <th>Id</th>\n      <th>Sales</th>\n    </tr>\n  </thead>\n  <tbody>\n    <tr>\n      <th>0</th>\n      <td>1</td>\n      <td>4759.096031</td>\n    </tr>\n    <tr>\n      <th>1</th>\n      <td>2</td>\n      <td>6942.568678</td>\n    </tr>\n    <tr>\n      <th>2</th>\n      <td>3</td>\n      <td>8817.050891</td>\n    </tr>\n    <tr>\n      <th>3</th>\n      <td>4</td>\n      <td>5539.358418</td>\n    </tr>\n    <tr>\n      <th>4</th>\n      <td>5</td>\n      <td>6562.337612</td>\n    </tr>\n  </tbody>\n</table>\n</div>"
     },
     "execution_count": 49,
     "metadata": {},
     "output_type": "execute_result"
    }
   ],
   "source": [
    "sample_csv.head()"
   ]
  },
  {
   "cell_type": "markdown",
   "metadata": {
    "pycharm": {
     "name": "#%% md\n"
    }
   },
   "source": [
    "# Sumbit a la competición"
   ]
  },
  {
   "cell_type": "code",
   "execution_count": 50,
   "metadata": {
    "pycharm": {
     "name": "#%%\n"
    }
   },
   "outputs": [],
   "source": [
    "\n",
    "sample_csv = pd.read_csv('dataset/rossmann/sample_submission.csv')\n",
    "sample_csv['Sales'] = y_pred_test\n",
    "sample_csv.head()\n",
    "\n",
    "sample_csv.to_csv(f'submision_{add_customers}-{log_output}-{output_activation}-{l2_lambda}-{first_hidden_units}-{epochs}-{batch_size}-{lr}.csv', index=False)\n"
   ]
  },
  {
   "cell_type": "markdown",
   "metadata": {
    "pycharm": {
     "name": "#%% md\n"
    }
   },
   "source": [
    "# Analisis de embedings"
   ]
  },
  {
   "cell_type": "code",
   "execution_count": 51,
   "metadata": {
    "pycharm": {
     "name": "#%%\n"
    }
   },
   "outputs": [],
   "source": [
    "def plot_embed(layer_name, cat_names):\n",
    "    Y = model.get_layer(layer_name).get_weights()[0]\n",
    "    print(Y.shape)\n",
    "    plt.figure(figsize=(8,8))\n",
    "    plt.scatter(-Y[:, 0], -Y[:, 1])\n",
    "    for i, txt in enumerate(cat_names):\n",
    "        plt.annotate(txt, (-Y[i, 0],-Y[i, 1]), xytext = (-5, 8), textcoords = 'offset points')"
   ]
  },
  {
   "cell_type": "code",
   "execution_count": 52,
   "metadata": {
    "pycharm": {
     "name": "#%%\n"
    }
   },
   "outputs": [
    {
     "name": "stdout",
     "output_type": "stream",
     "text": [
      "(7, 3)\n"
     ]
    },
    {
     "data": {
      "text/plain": "<Figure size 576x576 with 1 Axes>",
      "image/png": "[encoded data removed]"
     },
     "metadata": {
      "needs_background": "light"
     },
     "output_type": "display_data"
    }
   ],
   "source": [
    "model.load_weights('bestmodel.hdf5')\n",
    "plot_embed('DayOfWeek_Embed', ['Mon', 'Tue', 'Wed', 'Thu', 'Fri', 'Sat','Sun'])"
   ]
  },
  {
   "cell_type": "code",
   "execution_count": 53,
   "metadata": {
    "pycharm": {
     "name": "#%%\n"
    }
   },
   "outputs": [
    {
     "name": "stdout",
     "output_type": "stream",
     "text": [
      "(22, 4)\n"
     ]
    },
    {
     "data": {
      "text/plain": "<Figure size 576x576 with 1 Axes>",
      "image/png": "[encoded data removed]"
     },
     "metadata": {
      "needs_background": "light"
     },
     "output_type": "display_data"
    }
   ],
   "source": [
    "#plot_embed('Month_Embed', list(range(12)))\n",
    "plot_embed('Events_Embed', list(range(4)))"
   ]
  },
  {
   "cell_type": "code",
   "execution_count": 54,
   "metadata": {
    "pycharm": {
     "name": "#%%\n"
    }
   },
   "outputs": [],
   "source": [
    "from sklearn.manifold import TSNE\n",
    "from sklearn.decomposition import PCA"
   ]
  },
  {
   "cell_type": "code",
   "execution_count": 55,
   "metadata": {
    "pycharm": {
     "name": "#%%\n"
    }
   },
   "outputs": [
    {
     "data": {
      "text/plain": "(7, 3)"
     },
     "execution_count": 55,
     "metadata": {},
     "output_type": "execute_result"
    }
   ],
   "source": [
    "day_of_week_embedding = model.get_layer('DayOfWeek_Embed').get_weights()[0]\n",
    "day_of_week_embedding.shape"
   ]
  },
  {
   "cell_type": "code",
   "execution_count": 56,
   "metadata": {
    "pycharm": {
     "name": "#%%\n"
    }
   },
   "outputs": [
    {
     "name": "stderr",
     "output_type": "stream",
     "text": [
      "C:\\Users\\vives\\anaconda3\\lib\\site-packages\\sklearn\\manifold\\_t_sne.py:780: FutureWarning: The default initialization in TSNE will change from 'random' to 'pca' in 1.2.\n",
      "  warnings.warn(\n"
     ]
    },
    {
     "data": {
      "text/plain": "<Figure size 576x576 with 1 Axes>",
      "image/png": "[encoded data removed]"
     },
     "metadata": {
      "needs_background": "light"
     },
     "output_type": "display_data"
    }
   ],
   "source": [
    "tsne = TSNE(n_components=2, random_state=1, learning_rate=10, n_iter=10000)\n",
    "Y = tsne.fit_transform(day_of_week_embedding)\n",
    "names = ['Mon', 'Tue', 'Wed', 'Thu', 'Fri', 'Sat','Sun']\n",
    "plt.figure(figsize=(8,8))\n",
    "plt.scatter(-Y[:, 0], -Y[:, 1])\n",
    "for i, txt in enumerate(names):\n",
    "    plt.annotate(txt, (-Y[i, 0],-Y[i, 1]), xytext = (-5, 8), textcoords = 'offset points')"
   ]
  },
  {
   "cell_type": "markdown",
   "metadata": {
    "pycharm": {
     "name": "#%% md\n"
    }
   },
   "source": [
    "## Store embeddings"
   ]
  },
  {
   "cell_type": "code",
   "execution_count": 57,
   "metadata": {
    "pycharm": {
     "name": "#%%\n"
    }
   },
   "outputs": [],
   "source": [
    "submodel = Model(cat_var_inputs + cont_vars_inputs, merged)"
   ]
  },
  {
   "cell_type": "code",
   "execution_count": 58,
   "metadata": {
    "pycharm": {
     "name": "#%%\n"
    }
   },
   "outputs": [
    {
     "name": "stdout",
     "output_type": "stream",
     "text": [
      "Model: \"model_1\"\n",
      "__________________________________________________________________________________________________\n",
      " Layer (type)                   Output Shape         Param #     Connected to                     \n",
      "==================================================================================================\n",
      " Store_input (InputLayer)       [(None, 1)]          0           []                               \n",
      "                                                                                                  \n",
      " DayOfWeek_input (InputLayer)   [(None, 1)]          0           []                               \n",
      "                                                                                                  \n",
      " Year_input (InputLayer)        [(None, 1)]          0           []                               \n",
      "                                                                                                  \n",
      " Month_input (InputLayer)       [(None, 1)]          0           []                               \n",
      "                                                                                                  \n",
      " Day_input (InputLayer)         [(None, 1)]          0           []                               \n",
      "                                                                                                  \n",
      " StateHoliday_input (InputLayer  [(None, 1)]         0           []                               \n",
      " )                                                                                                \n",
      "                                                                                                  \n",
      " CompetitionMonthsOpen_input (I  [(None, 1)]         0           []                               \n",
      " nputLayer)                                                                                       \n",
      "                                                                                                  \n",
      " Promo2Weeks_input (InputLayer)  [(None, 1)]         0           []                               \n",
      "                                                                                                  \n",
      " StoreType_input (InputLayer)   [(None, 1)]          0           []                               \n",
      "                                                                                                  \n",
      " Assortment_input (InputLayer)  [(None, 1)]          0           []                               \n",
      "                                                                                                  \n",
      " PromoInterval_input (InputLaye  [(None, 1)]         0           []                               \n",
      " r)                                                                                               \n",
      "                                                                                                  \n",
      " CompetitionOpenSinceYear_input  [(None, 1)]         0           []                               \n",
      "  (InputLayer)                                                                                    \n",
      "                                                                                                  \n",
      " Promo2SinceYear_input (InputLa  [(None, 1)]         0           []                               \n",
      " yer)                                                                                             \n",
      "                                                                                                  \n",
      " State_input (InputLayer)       [(None, 1)]          0           []                               \n",
      "                                                                                                  \n",
      " Week_input (InputLayer)        [(None, 1)]          0           []                               \n",
      "                                                                                                  \n",
      " Events_input (InputLayer)      [(None, 1)]          0           []                               \n",
      "                                                                                                  \n",
      " Promo_fw_input (InputLayer)    [(None, 1)]          0           []                               \n",
      "                                                                                                  \n",
      " Promo_bw_input (InputLayer)    [(None, 1)]          0           []                               \n",
      "                                                                                                  \n",
      " StateHoliday_bool_fw_input (In  [(None, 1)]         0           []                               \n",
      " putLayer)                                                                                        \n",
      "                                                                                                  \n",
      " StateHoliday_bool_bw_input (In  [(None, 1)]         0           []                               \n",
      " putLayer)                                                                                        \n",
      "                                                                                                  \n",
      " SchoolHoliday_fw_input (InputL  [(None, 1)]         0           []                               \n",
      " ayer)                                                                                            \n",
      "                                                                                                  \n",
      " SchoolHoliday_bw_input (InputL  [(None, 1)]         0           []                               \n",
      " ayer)                                                                                            \n",
      "                                                                                                  \n",
      " Store_Embed (Embedding)        (None, 1, 20)        22300       ['Store_input[0][0]']            \n",
      "                                                                                                  \n",
      " DayOfWeek_Embed (Embedding)    (None, 1, 3)         21          ['DayOfWeek_input[0][0]']        \n",
      "                                                                                                  \n",
      " Year_Embed (Embedding)         (None, 1, 2)         6           ['Year_input[0][0]']             \n",
      "                                                                                                  \n",
      " Month_Embed (Embedding)        (None, 1, 4)         48          ['Month_input[0][0]']            \n",
      "                                                                                                  \n",
      " Day_Embed (Embedding)          (None, 1, 5)         155         ['Day_input[0][0]']              \n",
      "                                                                                                  \n",
      " StateHoliday_Embed (Embedding)  (None, 1, 2)        8           ['StateHoliday_input[0][0]']     \n",
      "                                                                                                  \n",
      " CompetitionMonthsOpen_Embed (E  (None, 1, 2)        50          ['CompetitionMonthsOpen_input[0][\n",
      " mbedding)                                                       0]']                             \n",
      "                                                                                                  \n",
      " Promo2Weeks_Embed (Embedding)  (None, 1, 2)         52          ['Promo2Weeks_input[0][0]']      \n",
      "                                                                                                  \n",
      " StoreType_Embed (Embedding)    (None, 1, 3)         12          ['StoreType_input[0][0]']        \n",
      "                                                                                                  \n",
      " Assortment_Embed (Embedding)   (None, 1, 2)         6           ['Assortment_input[0][0]']       \n",
      "                                                                                                  \n",
      " PromoInterval_Embed (Embedding  (None, 1, 3)        12          ['PromoInterval_input[0][0]']    \n",
      " )                                                                                                \n",
      "                                                                                                  \n",
      " CompetitionOpenSinceYear_Embed  (None, 1, 4)        84          ['CompetitionOpenSinceYear_input[\n",
      "  (Embedding)                                                    0][0]']                          \n",
      "                                                                                                  \n",
      " Promo2SinceYear_Embed (Embeddi  (None, 1, 4)        32          ['Promo2SinceYear_input[0][0]']  \n",
      " ng)                                                                                              \n",
      "                                                                                                  \n",
      " State_Embed (Embedding)        (None, 1, 6)         72          ['State_input[0][0]']            \n",
      "                                                                                                  \n",
      " Week_Embed (Embedding)         (None, 1, 6)         312         ['Week_input[0][0]']             \n",
      "                                                                                                  \n",
      " Events_Embed (Embedding)       (None, 1, 4)         88          ['Events_input[0][0]']           \n",
      "                                                                                                  \n",
      " Promo_fw_Embed (Embedding)     (None, 1, 1)         6           ['Promo_fw_input[0][0]']         \n",
      "                                                                                                  \n",
      " Promo_bw_Embed (Embedding)     (None, 1, 1)         6           ['Promo_bw_input[0][0]']         \n",
      "                                                                                                  \n",
      " StateHoliday_bool_fw_Embed (Em  (None, 1, 1)        3           ['StateHoliday_bool_fw_input[0][0\n",
      " bedding)                                                        ]']                              \n",
      "                                                                                                  \n",
      " StateHoliday_bool_bw_Embed (Em  (None, 1, 1)        3           ['StateHoliday_bool_bw_input[0][0\n",
      " bedding)                                                        ]']                              \n",
      "                                                                                                  \n",
      " SchoolHoliday_fw_Embed (Embedd  (None, 1, 1)        8           ['SchoolHoliday_fw_input[0][0]'] \n",
      " ing)                                                                                             \n",
      "                                                                                                  \n",
      " SchoolHoliday_bw_Embed (Embedd  (None, 1, 1)        8           ['SchoolHoliday_bw_input[0][0]'] \n",
      " ing)                                                                                             \n",
      "                                                                                                  \n",
      " Store_flat (Flatten)           (None, 20)           0           ['Store_Embed[0][0]']            \n",
      "                                                                                                  \n",
      " DayOfWeek_flat (Flatten)       (None, 3)            0           ['DayOfWeek_Embed[0][0]']        \n",
      "                                                                                                  \n",
      " Year_flat (Flatten)            (None, 2)            0           ['Year_Embed[0][0]']             \n",
      "                                                                                                  \n",
      " Month_flat (Flatten)           (None, 4)            0           ['Month_Embed[0][0]']            \n",
      "                                                                                                  \n",
      " Day_flat (Flatten)             (None, 5)            0           ['Day_Embed[0][0]']              \n",
      "                                                                                                  \n",
      " StateHoliday_flat (Flatten)    (None, 2)            0           ['StateHoliday_Embed[0][0]']     \n",
      "                                                                                                  \n",
      " CompetitionMonthsOpen_flat (Fl  (None, 2)           0           ['CompetitionMonthsOpen_Embed[0][\n",
      " atten)                                                          0]']                             \n",
      "                                                                                                  \n",
      " Promo2Weeks_flat (Flatten)     (None, 2)            0           ['Promo2Weeks_Embed[0][0]']      \n",
      "                                                                                                  \n",
      " StoreType_flat (Flatten)       (None, 3)            0           ['StoreType_Embed[0][0]']        \n",
      "                                                                                                  \n",
      " Assortment_flat (Flatten)      (None, 2)            0           ['Assortment_Embed[0][0]']       \n",
      "                                                                                                  \n",
      " PromoInterval_flat (Flatten)   (None, 3)            0           ['PromoInterval_Embed[0][0]']    \n",
      "                                                                                                  \n",
      " CompetitionOpenSinceYear_flat   (None, 4)           0           ['CompetitionOpenSinceYear_Embed[\n",
      " (Flatten)                                                       0][0]']                          \n",
      "                                                                                                  \n",
      " Promo2SinceYear_flat (Flatten)  (None, 4)           0           ['Promo2SinceYear_Embed[0][0]']  \n",
      "                                                                                                  \n",
      " State_flat (Flatten)           (None, 6)            0           ['State_Embed[0][0]']            \n",
      "                                                                                                  \n",
      " Week_flat (Flatten)            (None, 6)            0           ['Week_Embed[0][0]']             \n",
      "                                                                                                  \n",
      " Events_flat (Flatten)          (None, 4)            0           ['Events_Embed[0][0]']           \n",
      "                                                                                                  \n",
      " Promo_fw_flat (Flatten)        (None, 1)            0           ['Promo_fw_Embed[0][0]']         \n",
      "                                                                                                  \n",
      " Promo_bw_flat (Flatten)        (None, 1)            0           ['Promo_bw_Embed[0][0]']         \n",
      "                                                                                                  \n",
      " StateHoliday_bool_fw_flat (Fla  (None, 1)           0           ['StateHoliday_bool_fw_Embed[0][0\n",
      " tten)                                                           ]']                              \n",
      "                                                                                                  \n",
      " StateHoliday_bool_bw_flat (Fla  (None, 1)           0           ['StateHoliday_bool_bw_Embed[0][0\n",
      " tten)                                                           ]']                              \n",
      "                                                                                                  \n",
      " SchoolHoliday_fw_flat (Flatten  (None, 1)           0           ['SchoolHoliday_fw_Embed[0][0]'] \n",
      " )                                                                                                \n",
      "                                                                                                  \n",
      " SchoolHoliday_bw_flat (Flatten  (None, 1)           0           ['SchoolHoliday_bw_Embed[0][0]'] \n",
      " )                                                                                                \n",
      "                                                                                                  \n",
      " CompetitionDistance_input (Inp  [(None, 1)]         0           []                               \n",
      " utLayer)                                                                                         \n",
      "                                                                                                  \n",
      " Max_TemperatureC_input (InputL  [(None, 1)]         0           []                               \n",
      " ayer)                                                                                            \n",
      "                                                                                                  \n",
      " Precipitationmm_input (InputLa  [(None, 1)]         0           []                               \n",
      " yer)                                                                                             \n",
      "                                                                                                  \n",
      " Max_Humidity_input (InputLayer  [(None, 1)]         0           []                               \n",
      " )                                                                                                \n",
      "                                                                                                  \n",
      " CloudCover_input (InputLayer)  [(None, 1)]          0           []                               \n",
      "                                                                                                  \n",
      " trend_input (InputLayer)       [(None, 1)]          0           []                               \n",
      "                                                                                                  \n",
      " AfterStateHoliday_bool_input (  [(None, 1)]         0           []                               \n",
      " InputLayer)                                                                                      \n",
      "                                                                                                  \n",
      " Promo_input (InputLayer)       [(None, 1)]          0           []                               \n",
      "                                                                                                  \n",
      " All_Concatenate (Concatenate)  (None, 86)           0           ['Store_flat[0][0]',             \n",
      "                                                                  'DayOfWeek_flat[0][0]',         \n",
      "                                                                  'Year_flat[0][0]',              \n",
      "                                                                  'Month_flat[0][0]',             \n",
      "                                                                  'Day_flat[0][0]',               \n",
      "                                                                  'StateHoliday_flat[0][0]',      \n",
      "                                                                  'CompetitionMonthsOpen_flat[0][0\n",
      "                                                                 ]',                              \n",
      "                                                                  'Promo2Weeks_flat[0][0]',       \n",
      "                                                                  'StoreType_flat[0][0]',         \n",
      "                                                                  'Assortment_flat[0][0]',        \n",
      "                                                                  'PromoInterval_flat[0][0]',     \n",
      "                                                                  'CompetitionOpenSinceYear_flat[0\n",
      "                                                                 ][0]',                           \n",
      "                                                                  'Promo2SinceYear_flat[0][0]',   \n",
      "                                                                  'State_flat[0][0]',             \n",
      "                                                                  'Week_flat[0][0]',              \n",
      "                                                                  'Events_flat[0][0]',            \n",
      "                                                                  'Promo_fw_flat[0][0]',          \n",
      "                                                                  'Promo_bw_flat[0][0]',          \n",
      "                                                                  'StateHoliday_bool_fw_flat[0][0]\n",
      "                                                                 ',                               \n",
      "                                                                  'StateHoliday_bool_bw_flat[0][0]\n",
      "                                                                 ',                               \n",
      "                                                                  'SchoolHoliday_fw_flat[0][0]',  \n",
      "                                                                  'SchoolHoliday_bw_flat[0][0]',  \n",
      "                                                                  'CompetitionDistance_input[0][0]\n",
      "                                                                 ',                               \n",
      "                                                                  'Max_TemperatureC_input[0][0]', \n",
      "                                                                  'Precipitationmm_input[0][0]',  \n",
      "                                                                  'Max_Humidity_input[0][0]',     \n",
      "                                                                  'CloudCover_input[0][0]',       \n",
      "                                                                  'trend_input[0][0]',            \n",
      "                                                                  'AfterStateHoliday_bool_input[0]\n",
      "                                                                 [0]',                            \n",
      "                                                                  'Promo_input[0][0]']            \n",
      "                                                                                                  \n",
      "==================================================================================================\n",
      "Total params: 23,292\n",
      "Trainable params: 23,292\n",
      "Non-trainable params: 0\n",
      "__________________________________________________________________________________________________\n"
     ]
    }
   ],
   "source": [
    "submodel.summary()"
   ]
  },
  {
   "cell_type": "code",
   "execution_count": 59,
   "metadata": {
    "pycharm": {
     "name": "#%%\n"
    }
   },
   "outputs": [
    {
     "name": "stdout",
     "output_type": "stream",
     "text": [
      "WARNING:tensorflow:Compiled the loaded model, but the compiled metrics have yet to be built. `model.compile_metrics` will be empty until you train or evaluate the model.\n"
     ]
    }
   ],
   "source": [
    "submodel.save('embeddings_model.hdf5')"
   ]
  },
  {
   "cell_type": "code",
   "execution_count": 60,
   "metadata": {
    "pycharm": {
     "name": "#%%\n"
    }
   },
   "outputs": [
    {
     "name": "stdout",
     "output_type": "stream",
     "text": [
      "date and time = 02/09/2022 13:00:17\n"
     ]
    }
   ],
   "source": [
    "from datetime import datetime\n",
    "\n",
    "# datetime object containing current date and time\n",
    "now = datetime.now()\n",
    "# dd/mm/YY H:M:S\n",
    "dt_string = now.strftime(\"%d/%m/%Y %H:%M:%S\")\n",
    "print(\"date and time =\", dt_string)"
   ]
  },
  {
   "cell_type": "code",
   "execution_count": 60,
   "outputs": [],
   "source": [],
   "metadata": {
    "collapsed": false,
    "pycharm": {
     "name": "#%%\n"
    }
   }
  }
 ],
 "metadata": {
  "kernelspec": {
   "display_name": "Python 3 (ipykernel)",
   "language": "python",
   "name": "python3"
  },
  "language_info": {
   "codemirror_mode": {
    "name": "ipython",
    "version": 3
   },
   "file_extension": ".py",
   "mimetype": "text/x-python",
   "name": "python",
   "nbconvert_exporter": "python",
   "pygments_lexer": "ipython3",
   "version": "3.9.12"
  }
 },
 "nbformat": 4,
 "nbformat_minor": 4
}